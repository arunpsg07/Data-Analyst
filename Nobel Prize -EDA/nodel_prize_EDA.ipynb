{
 "cells": [
  {
   "cell_type": "code",
   "execution_count": 35,
   "metadata": {},
   "outputs": [],
   "source": [
    "import pandas as pd\n",
    "import numpy as np\n",
    "import matplotlib.pyplot as plt\n",
    "import seaborn as sns"
   ]
  },
  {
   "cell_type": "code",
   "execution_count": 36,
   "metadata": {},
   "outputs": [
    {
     "data": {
      "text/html": [
       "<div>\n",
       "<style scoped>\n",
       "    .dataframe tbody tr th:only-of-type {\n",
       "        vertical-align: middle;\n",
       "    }\n",
       "\n",
       "    .dataframe tbody tr th {\n",
       "        vertical-align: top;\n",
       "    }\n",
       "\n",
       "    .dataframe thead th {\n",
       "        text-align: right;\n",
       "    }\n",
       "</style>\n",
       "<table border=\"1\" class=\"dataframe\">\n",
       "  <thead>\n",
       "    <tr style=\"text-align: right;\">\n",
       "      <th></th>\n",
       "      <th>Year</th>\n",
       "      <th>Laureate_Id</th>\n",
       "      <th>Firstname</th>\n",
       "      <th>Lastname</th>\n",
       "      <th>Category</th>\n",
       "      <th>Gender</th>\n",
       "      <th>Prize_Share</th>\n",
       "      <th>Motivation</th>\n",
       "      <th>Birth_Date</th>\n",
       "      <th>Birth_Country</th>\n",
       "      <th>Birth_City</th>\n",
       "      <th>Birth_Country_Code</th>\n",
       "      <th>Death_Date</th>\n",
       "      <th>Death_Country</th>\n",
       "      <th>Death_City</th>\n",
       "      <th>Death_Country_Code</th>\n",
       "      <th>Organization_Name</th>\n",
       "      <th>Organization_City</th>\n",
       "      <th>Organization_Country</th>\n",
       "    </tr>\n",
       "  </thead>\n",
       "  <tbody>\n",
       "    <tr>\n",
       "      <th>0</th>\n",
       "      <td>1901</td>\n",
       "      <td>1</td>\n",
       "      <td>Wilhelm Conrad</td>\n",
       "      <td>Röntgen</td>\n",
       "      <td>physics</td>\n",
       "      <td>male</td>\n",
       "      <td>1</td>\n",
       "      <td>\"in recognition of the extraordinary services ...</td>\n",
       "      <td>1845-03-27</td>\n",
       "      <td>Prussia (now Germany)</td>\n",
       "      <td>Lennep (now Remscheid)</td>\n",
       "      <td>DE</td>\n",
       "      <td>10-02-1923</td>\n",
       "      <td>Germany</td>\n",
       "      <td>Munich</td>\n",
       "      <td>DE</td>\n",
       "      <td>Munich University</td>\n",
       "      <td>Munich</td>\n",
       "      <td>Germany</td>\n",
       "    </tr>\n",
       "    <tr>\n",
       "      <th>1</th>\n",
       "      <td>1901</td>\n",
       "      <td>293</td>\n",
       "      <td>Emil</td>\n",
       "      <td>von Behring</td>\n",
       "      <td>medicine</td>\n",
       "      <td>male</td>\n",
       "      <td>1</td>\n",
       "      <td>\"for his work on serum therapy especially its ...</td>\n",
       "      <td>1854-03-15</td>\n",
       "      <td>Prussia (now Poland)</td>\n",
       "      <td>Hansdorf (now Lawice)</td>\n",
       "      <td>PL</td>\n",
       "      <td>31-03-1917</td>\n",
       "      <td>Germany</td>\n",
       "      <td>Marburg</td>\n",
       "      <td>DE</td>\n",
       "      <td>Marburg University</td>\n",
       "      <td>Marburg</td>\n",
       "      <td>Germany</td>\n",
       "    </tr>\n",
       "    <tr>\n",
       "      <th>2</th>\n",
       "      <td>1901</td>\n",
       "      <td>462</td>\n",
       "      <td>Henry</td>\n",
       "      <td>Dunant</td>\n",
       "      <td>peace</td>\n",
       "      <td>male</td>\n",
       "      <td>2</td>\n",
       "      <td>\"for his humanitarian efforts to help wounded ...</td>\n",
       "      <td>1828-05-08</td>\n",
       "      <td>Switzerland</td>\n",
       "      <td>Geneva</td>\n",
       "      <td>CH</td>\n",
       "      <td>30-10-1910</td>\n",
       "      <td>Switzerland</td>\n",
       "      <td>Heiden</td>\n",
       "      <td>CH</td>\n",
       "      <td>NaN</td>\n",
       "      <td>NaN</td>\n",
       "      <td>NaN</td>\n",
       "    </tr>\n",
       "    <tr>\n",
       "      <th>3</th>\n",
       "      <td>1901</td>\n",
       "      <td>463</td>\n",
       "      <td>Frédéric</td>\n",
       "      <td>Passy</td>\n",
       "      <td>peace</td>\n",
       "      <td>male</td>\n",
       "      <td>2</td>\n",
       "      <td>\"for his lifelong work for international peace...</td>\n",
       "      <td>1822-05-20</td>\n",
       "      <td>France</td>\n",
       "      <td>Paris</td>\n",
       "      <td>FR</td>\n",
       "      <td>12-06-1912</td>\n",
       "      <td>France</td>\n",
       "      <td>Paris</td>\n",
       "      <td>FR</td>\n",
       "      <td>NaN</td>\n",
       "      <td>NaN</td>\n",
       "      <td>NaN</td>\n",
       "    </tr>\n",
       "    <tr>\n",
       "      <th>4</th>\n",
       "      <td>1901</td>\n",
       "      <td>569</td>\n",
       "      <td>Sully</td>\n",
       "      <td>Prudhomme</td>\n",
       "      <td>literature</td>\n",
       "      <td>male</td>\n",
       "      <td>1</td>\n",
       "      <td>\"in special recognition of his poetic composit...</td>\n",
       "      <td>1839-03-16</td>\n",
       "      <td>France</td>\n",
       "      <td>Paris</td>\n",
       "      <td>FR</td>\n",
       "      <td>07-09-1907</td>\n",
       "      <td>France</td>\n",
       "      <td>Châtenay</td>\n",
       "      <td>FR</td>\n",
       "      <td>NaN</td>\n",
       "      <td>NaN</td>\n",
       "      <td>NaN</td>\n",
       "    </tr>\n",
       "  </tbody>\n",
       "</table>\n",
       "</div>"
      ],
      "text/plain": [
       "   Year  Laureate_Id       Firstname     Lastname    Category Gender  \\\n",
       "0  1901            1  Wilhelm Conrad      Röntgen     physics   male   \n",
       "1  1901          293            Emil  von Behring    medicine   male   \n",
       "2  1901          462           Henry       Dunant       peace   male   \n",
       "3  1901          463        Frédéric        Passy       peace   male   \n",
       "4  1901          569           Sully    Prudhomme  literature   male   \n",
       "\n",
       "   Prize_Share                                         Motivation  Birth_Date  \\\n",
       "0            1  \"in recognition of the extraordinary services ...  1845-03-27   \n",
       "1            1  \"for his work on serum therapy especially its ...  1854-03-15   \n",
       "2            2  \"for his humanitarian efforts to help wounded ...  1828-05-08   \n",
       "3            2  \"for his lifelong work for international peace...  1822-05-20   \n",
       "4            1  \"in special recognition of his poetic composit...  1839-03-16   \n",
       "\n",
       "           Birth_Country              Birth_City Birth_Country_Code  \\\n",
       "0  Prussia (now Germany)  Lennep (now Remscheid)                 DE   \n",
       "1   Prussia (now Poland)   Hansdorf (now Lawice)                 PL   \n",
       "2            Switzerland                  Geneva                 CH   \n",
       "3                 France                   Paris                 FR   \n",
       "4                 France                   Paris                 FR   \n",
       "\n",
       "   Death_Date Death_Country Death_City Death_Country_Code   Organization_Name  \\\n",
       "0  10-02-1923       Germany     Munich                 DE   Munich University   \n",
       "1  31-03-1917       Germany    Marburg                 DE  Marburg University   \n",
       "2  30-10-1910   Switzerland     Heiden                 CH                 NaN   \n",
       "3  12-06-1912        France      Paris                 FR                 NaN   \n",
       "4  07-09-1907        France   Châtenay                 FR                 NaN   \n",
       "\n",
       "  Organization_City Organization_Country  \n",
       "0            Munich              Germany  \n",
       "1           Marburg              Germany  \n",
       "2               NaN                  NaN  \n",
       "3               NaN                  NaN  \n",
       "4               NaN                  NaN  "
      ]
     },
     "execution_count": 36,
     "metadata": {},
     "output_type": "execute_result"
    }
   ],
   "source": [
    "df=pd.read_csv(r'F:\\important\\Data analyst\\Projects\\Nobel Prize -EDA\\Dataset\\nobel_latest.csv')\n",
    "df.head(5)"
   ]
  },
  {
   "cell_type": "code",
   "execution_count": 37,
   "metadata": {},
   "outputs": [
    {
     "name": "stdout",
     "output_type": "stream",
     "text": [
      "<class 'pandas.core.frame.DataFrame'>\n",
      "RangeIndex: 989 entries, 0 to 988\n",
      "Data columns (total 19 columns):\n",
      " #   Column                Non-Null Count  Dtype \n",
      "---  ------                --------------  ----- \n",
      " 0   Year                  989 non-null    int64 \n",
      " 1   Laureate_Id           989 non-null    int64 \n",
      " 2   Firstname             989 non-null    object\n",
      " 3   Lastname              957 non-null    object\n",
      " 4   Category              989 non-null    object\n",
      " 5   Gender                989 non-null    object\n",
      " 6   Prize_Share           989 non-null    int64 \n",
      " 7   Motivation            989 non-null    object\n",
      " 8   Birth_Date            989 non-null    object\n",
      " 9   Birth_Country         958 non-null    object\n",
      " 10  Birth_City            956 non-null    object\n",
      " 11  Birth_Country_Code    958 non-null    object\n",
      " 12  Death_Date            989 non-null    object\n",
      " 13  Death_Country         646 non-null    object\n",
      " 14  Death_City            640 non-null    object\n",
      " 15  Death_Country_Code    646 non-null    object\n",
      " 16  Organization_Name     727 non-null    object\n",
      " 17  Organization_City     722 non-null    object\n",
      " 18  Organization_Country  724 non-null    object\n",
      "dtypes: int64(3), object(16)\n",
      "memory usage: 146.9+ KB\n"
     ]
    }
   ],
   "source": [
    "df.info()"
   ]
  },
  {
   "cell_type": "code",
   "execution_count": 38,
   "metadata": {},
   "outputs": [
    {
     "data": {
      "text/plain": [
       "Index(['Year', 'Laureate_Id', 'Firstname', 'Lastname', 'Category', 'Gender',\n",
       "       'Prize_Share', 'Motivation', 'Birth_Date', 'Birth_Country',\n",
       "       'Birth_City', 'Birth_Country_Code', 'Death_Date', 'Death_Country',\n",
       "       'Death_City', 'Death_Country_Code', 'Organization_Name',\n",
       "       'Organization_City', 'Organization_Country'],\n",
       "      dtype='object')"
      ]
     },
     "execution_count": 38,
     "metadata": {},
     "output_type": "execute_result"
    }
   ],
   "source": [
    "df.columns"
   ]
  },
  {
   "cell_type": "code",
   "execution_count": 39,
   "metadata": {},
   "outputs": [
    {
     "data": {
      "text/plain": [
       "(989, 19)"
      ]
     },
     "execution_count": 39,
     "metadata": {},
     "output_type": "execute_result"
    }
   ],
   "source": [
    "df.shape"
   ]
  },
  {
   "cell_type": "code",
   "execution_count": 40,
   "metadata": {},
   "outputs": [
    {
     "data": {
      "text/plain": [
       "<Axes: >"
      ]
     },
     "execution_count": 40,
     "metadata": {},
     "output_type": "execute_result"
    },
    {
     "data": {
      "image/png": "[encoded data removed]",
      "text/plain": [
       "<Figure size 640x480 with 2 Axes>"
      ]
     },
     "metadata": {},
     "output_type": "display_data"
    }
   ],
   "source": [
    "sns.heatmap(df.isnull())"
   ]
  },
  {
   "cell_type": "code",
   "execution_count": 41,
   "metadata": {},
   "outputs": [
    {
     "data": {
      "text/plain": [
       "array([1901, 1902, 1903, 1904, 1905, 1906, 1907, 1908, 1909, 1910, 1911,\n",
       "       1912, 1913, 1914, 1915, 1916, 1917, 1918, 1919, 1920, 1921, 1922,\n",
       "       1923, 1924, 1925, 1926, 1927, 1928, 1929, 1930, 1931, 1932, 1933,\n",
       "       1934, 1935, 1936, 1937, 1938, 1939, 1943, 1944, 1945, 1946, 1947,\n",
       "       1948, 1949, 1950, 1951, 1952, 1953, 1954, 1955, 1956, 1957, 1958,\n",
       "       1959, 1960, 1961, 1962, 1963, 1964, 1965, 1966, 1967, 1968, 1969,\n",
       "       1970, 1971, 1972, 1973, 1974, 1975, 1976, 1977, 1978, 1979, 1980,\n",
       "       1981, 1982, 1983, 1984, 1985, 1986, 1987, 1988, 1989, 1990, 1991,\n",
       "       1992, 1993, 1994, 1995, 1996, 1997, 1998, 1999, 2000, 2001, 2002,\n",
       "       2003, 2004, 2005, 2006, 2007, 2008, 2009, 2010, 2011, 2012, 2013,\n",
       "       2014, 2015, 2016, 2017, 2018, 2019, 2020, 2021, 2022], dtype=int64)"
      ]
     },
     "execution_count": 41,
     "metadata": {},
     "output_type": "execute_result"
    }
   ],
   "source": [
    "df['Year'].unique()"
   ]
  },
  {
   "cell_type": "code",
   "execution_count": 42,
   "metadata": {},
   "outputs": [
    {
     "data": {
      "text/plain": [
       "32"
      ]
     },
     "execution_count": 42,
     "metadata": {},
     "output_type": "execute_result"
    }
   ],
   "source": [
    "df['Lastname'].isnull().sum()"
   ]
  },
  {
   "cell_type": "code",
   "execution_count": 43,
   "metadata": {},
   "outputs": [],
   "source": [
    "df['Lastname'].fillna(\"\",inplace=True)"
   ]
  },
  {
   "cell_type": "code",
   "execution_count": 44,
   "metadata": {},
   "outputs": [
    {
     "data": {
      "text/plain": [
       "0"
      ]
     },
     "execution_count": 44,
     "metadata": {},
     "output_type": "execute_result"
    }
   ],
   "source": [
    "df['Lastname'].isnull().sum()"
   ]
  },
  {
   "cell_type": "code",
   "execution_count": 45,
   "metadata": {},
   "outputs": [
    {
     "data": {
      "text/plain": [
       "0      Wilhelm Conrad Röntgen\n",
       "1            Emil von Behring\n",
       "2                Henry Dunant\n",
       "3              Frédéric Passy\n",
       "4             Sully Prudhomme\n",
       "                ...          \n",
       "984              Svante Pääbo\n",
       "985           Barry Sharpless\n",
       "986           Douglas Diamond\n",
       "987          Carolyn Bertozzi\n",
       "988             Philip Dybvig\n",
       "Name: Fullname, Length: 989, dtype: object"
      ]
     },
     "execution_count": 45,
     "metadata": {},
     "output_type": "execute_result"
    }
   ],
   "source": [
    "df['Fullname']=df['Firstname']+\" \"+df['Lastname']\n",
    "df['Fullname']"
   ]
  },
  {
   "cell_type": "code",
   "execution_count": 46,
   "metadata": {},
   "outputs": [],
   "source": [
    "df=df.drop(['Firstname','Lastname'],axis=1)"
   ]
  },
  {
   "cell_type": "code",
   "execution_count": 47,
   "metadata": {},
   "outputs": [
    {
     "data": {
      "text/html": [
       "<div>\n",
       "<style scoped>\n",
       "    .dataframe tbody tr th:only-of-type {\n",
       "        vertical-align: middle;\n",
       "    }\n",
       "\n",
       "    .dataframe tbody tr th {\n",
       "        vertical-align: top;\n",
       "    }\n",
       "\n",
       "    .dataframe thead th {\n",
       "        text-align: right;\n",
       "    }\n",
       "</style>\n",
       "<table border=\"1\" class=\"dataframe\">\n",
       "  <thead>\n",
       "    <tr style=\"text-align: right;\">\n",
       "      <th></th>\n",
       "      <th>Year</th>\n",
       "      <th>Laureate_Id</th>\n",
       "      <th>Category</th>\n",
       "      <th>Gender</th>\n",
       "      <th>Prize_Share</th>\n",
       "      <th>Motivation</th>\n",
       "      <th>Birth_Date</th>\n",
       "      <th>Birth_Country</th>\n",
       "      <th>Birth_City</th>\n",
       "      <th>Birth_Country_Code</th>\n",
       "      <th>Death_Date</th>\n",
       "      <th>Death_Country</th>\n",
       "      <th>Death_City</th>\n",
       "      <th>Death_Country_Code</th>\n",
       "      <th>Organization_Name</th>\n",
       "      <th>Organization_City</th>\n",
       "      <th>Organization_Country</th>\n",
       "      <th>Fullname</th>\n",
       "    </tr>\n",
       "  </thead>\n",
       "  <tbody>\n",
       "    <tr>\n",
       "      <th>0</th>\n",
       "      <td>1901</td>\n",
       "      <td>1</td>\n",
       "      <td>physics</td>\n",
       "      <td>male</td>\n",
       "      <td>1</td>\n",
       "      <td>\"in recognition of the extraordinary services ...</td>\n",
       "      <td>1845-03-27</td>\n",
       "      <td>Prussia (now Germany)</td>\n",
       "      <td>Lennep (now Remscheid)</td>\n",
       "      <td>DE</td>\n",
       "      <td>10-02-1923</td>\n",
       "      <td>Germany</td>\n",
       "      <td>Munich</td>\n",
       "      <td>DE</td>\n",
       "      <td>Munich University</td>\n",
       "      <td>Munich</td>\n",
       "      <td>Germany</td>\n",
       "      <td>Wilhelm Conrad Röntgen</td>\n",
       "    </tr>\n",
       "    <tr>\n",
       "      <th>1</th>\n",
       "      <td>1901</td>\n",
       "      <td>293</td>\n",
       "      <td>medicine</td>\n",
       "      <td>male</td>\n",
       "      <td>1</td>\n",
       "      <td>\"for his work on serum therapy especially its ...</td>\n",
       "      <td>1854-03-15</td>\n",
       "      <td>Prussia (now Poland)</td>\n",
       "      <td>Hansdorf (now Lawice)</td>\n",
       "      <td>PL</td>\n",
       "      <td>31-03-1917</td>\n",
       "      <td>Germany</td>\n",
       "      <td>Marburg</td>\n",
       "      <td>DE</td>\n",
       "      <td>Marburg University</td>\n",
       "      <td>Marburg</td>\n",
       "      <td>Germany</td>\n",
       "      <td>Emil von Behring</td>\n",
       "    </tr>\n",
       "    <tr>\n",
       "      <th>2</th>\n",
       "      <td>1901</td>\n",
       "      <td>462</td>\n",
       "      <td>peace</td>\n",
       "      <td>male</td>\n",
       "      <td>2</td>\n",
       "      <td>\"for his humanitarian efforts to help wounded ...</td>\n",
       "      <td>1828-05-08</td>\n",
       "      <td>Switzerland</td>\n",
       "      <td>Geneva</td>\n",
       "      <td>CH</td>\n",
       "      <td>30-10-1910</td>\n",
       "      <td>Switzerland</td>\n",
       "      <td>Heiden</td>\n",
       "      <td>CH</td>\n",
       "      <td>NaN</td>\n",
       "      <td>NaN</td>\n",
       "      <td>NaN</td>\n",
       "      <td>Henry Dunant</td>\n",
       "    </tr>\n",
       "    <tr>\n",
       "      <th>3</th>\n",
       "      <td>1901</td>\n",
       "      <td>463</td>\n",
       "      <td>peace</td>\n",
       "      <td>male</td>\n",
       "      <td>2</td>\n",
       "      <td>\"for his lifelong work for international peace...</td>\n",
       "      <td>1822-05-20</td>\n",
       "      <td>France</td>\n",
       "      <td>Paris</td>\n",
       "      <td>FR</td>\n",
       "      <td>12-06-1912</td>\n",
       "      <td>France</td>\n",
       "      <td>Paris</td>\n",
       "      <td>FR</td>\n",
       "      <td>NaN</td>\n",
       "      <td>NaN</td>\n",
       "      <td>NaN</td>\n",
       "      <td>Frédéric Passy</td>\n",
       "    </tr>\n",
       "    <tr>\n",
       "      <th>4</th>\n",
       "      <td>1901</td>\n",
       "      <td>569</td>\n",
       "      <td>literature</td>\n",
       "      <td>male</td>\n",
       "      <td>1</td>\n",
       "      <td>\"in special recognition of his poetic composit...</td>\n",
       "      <td>1839-03-16</td>\n",
       "      <td>France</td>\n",
       "      <td>Paris</td>\n",
       "      <td>FR</td>\n",
       "      <td>07-09-1907</td>\n",
       "      <td>France</td>\n",
       "      <td>Châtenay</td>\n",
       "      <td>FR</td>\n",
       "      <td>NaN</td>\n",
       "      <td>NaN</td>\n",
       "      <td>NaN</td>\n",
       "      <td>Sully Prudhomme</td>\n",
       "    </tr>\n",
       "    <tr>\n",
       "      <th>...</th>\n",
       "      <td>...</td>\n",
       "      <td>...</td>\n",
       "      <td>...</td>\n",
       "      <td>...</td>\n",
       "      <td>...</td>\n",
       "      <td>...</td>\n",
       "      <td>...</td>\n",
       "      <td>...</td>\n",
       "      <td>...</td>\n",
       "      <td>...</td>\n",
       "      <td>...</td>\n",
       "      <td>...</td>\n",
       "      <td>...</td>\n",
       "      <td>...</td>\n",
       "      <td>...</td>\n",
       "      <td>...</td>\n",
       "      <td>...</td>\n",
       "      <td>...</td>\n",
       "    </tr>\n",
       "    <tr>\n",
       "      <th>984</th>\n",
       "      <td>2022</td>\n",
       "      <td>1011</td>\n",
       "      <td>medicine</td>\n",
       "      <td>male</td>\n",
       "      <td>1</td>\n",
       "      <td>\"for his discoveries concerning the genomes of...</td>\n",
       "      <td>20-04-1955</td>\n",
       "      <td>Sweden</td>\n",
       "      <td>Stockholm</td>\n",
       "      <td>SE</td>\n",
       "      <td>0000-00-00</td>\n",
       "      <td>NaN</td>\n",
       "      <td>NaN</td>\n",
       "      <td>NaN</td>\n",
       "      <td>Max Planck Institute for Evolutionary Anthropo...</td>\n",
       "      <td>Leipzig</td>\n",
       "      <td>Germany</td>\n",
       "      <td>Svante Pääbo</td>\n",
       "    </tr>\n",
       "    <tr>\n",
       "      <th>985</th>\n",
       "      <td>2022</td>\n",
       "      <td>743</td>\n",
       "      <td>chemistry</td>\n",
       "      <td>male</td>\n",
       "      <td>3</td>\n",
       "      <td>\"for the development of click chemistry and bi...</td>\n",
       "      <td>28-04-1941</td>\n",
       "      <td>USA</td>\n",
       "      <td>Philadelphia PA</td>\n",
       "      <td>US</td>\n",
       "      <td>0000-00-00</td>\n",
       "      <td>NaN</td>\n",
       "      <td>NaN</td>\n",
       "      <td>NaN</td>\n",
       "      <td>Scripps Research</td>\n",
       "      <td>La Jolla CA</td>\n",
       "      <td>USA</td>\n",
       "      <td>Barry Sharpless</td>\n",
       "    </tr>\n",
       "    <tr>\n",
       "      <th>986</th>\n",
       "      <td>2022</td>\n",
       "      <td>1022</td>\n",
       "      <td>economics</td>\n",
       "      <td>male</td>\n",
       "      <td>3</td>\n",
       "      <td>\"for research on banks and financial crises\"</td>\n",
       "      <td>25-10-1953</td>\n",
       "      <td>USA</td>\n",
       "      <td>Chicago IL</td>\n",
       "      <td>US</td>\n",
       "      <td>0000-00-00</td>\n",
       "      <td>NaN</td>\n",
       "      <td>NaN</td>\n",
       "      <td>NaN</td>\n",
       "      <td>University of Chicago</td>\n",
       "      <td>Chicago IL</td>\n",
       "      <td>USA</td>\n",
       "      <td>Douglas Diamond</td>\n",
       "    </tr>\n",
       "    <tr>\n",
       "      <th>987</th>\n",
       "      <td>2022</td>\n",
       "      <td>1015</td>\n",
       "      <td>chemistry</td>\n",
       "      <td>female</td>\n",
       "      <td>3</td>\n",
       "      <td>\"for the development of click chemistry and bi...</td>\n",
       "      <td>10-10-1966</td>\n",
       "      <td>USA</td>\n",
       "      <td>Boston MA</td>\n",
       "      <td>US</td>\n",
       "      <td>0000-00-00</td>\n",
       "      <td>NaN</td>\n",
       "      <td>NaN</td>\n",
       "      <td>NaN</td>\n",
       "      <td>Stanford University</td>\n",
       "      <td>Stanford CA</td>\n",
       "      <td>USA</td>\n",
       "      <td>Carolyn Bertozzi</td>\n",
       "    </tr>\n",
       "    <tr>\n",
       "      <th>988</th>\n",
       "      <td>2022</td>\n",
       "      <td>1023</td>\n",
       "      <td>economics</td>\n",
       "      <td>male</td>\n",
       "      <td>3</td>\n",
       "      <td>\"for research on banks and financial crises\"</td>\n",
       "      <td>22-05-1955</td>\n",
       "      <td>USA</td>\n",
       "      <td>Gainesville FL</td>\n",
       "      <td>US</td>\n",
       "      <td>0000-00-00</td>\n",
       "      <td>NaN</td>\n",
       "      <td>NaN</td>\n",
       "      <td>NaN</td>\n",
       "      <td>Washington University</td>\n",
       "      <td>St. Louis MO</td>\n",
       "      <td>USA</td>\n",
       "      <td>Philip Dybvig</td>\n",
       "    </tr>\n",
       "  </tbody>\n",
       "</table>\n",
       "<p>989 rows × 18 columns</p>\n",
       "</div>"
      ],
      "text/plain": [
       "     Year  Laureate_Id    Category  Gender  Prize_Share  \\\n",
       "0    1901            1     physics    male            1   \n",
       "1    1901          293    medicine    male            1   \n",
       "2    1901          462       peace    male            2   \n",
       "3    1901          463       peace    male            2   \n",
       "4    1901          569  literature    male            1   \n",
       "..    ...          ...         ...     ...          ...   \n",
       "984  2022         1011    medicine    male            1   \n",
       "985  2022          743   chemistry    male            3   \n",
       "986  2022         1022   economics    male            3   \n",
       "987  2022         1015   chemistry  female            3   \n",
       "988  2022         1023   economics    male            3   \n",
       "\n",
       "                                            Motivation  Birth_Date  \\\n",
       "0    \"in recognition of the extraordinary services ...  1845-03-27   \n",
       "1    \"for his work on serum therapy especially its ...  1854-03-15   \n",
       "2    \"for his humanitarian efforts to help wounded ...  1828-05-08   \n",
       "3    \"for his lifelong work for international peace...  1822-05-20   \n",
       "4    \"in special recognition of his poetic composit...  1839-03-16   \n",
       "..                                                 ...         ...   \n",
       "984  \"for his discoveries concerning the genomes of...  20-04-1955   \n",
       "985  \"for the development of click chemistry and bi...  28-04-1941   \n",
       "986       \"for research on banks and financial crises\"  25-10-1953   \n",
       "987  \"for the development of click chemistry and bi...  10-10-1966   \n",
       "988       \"for research on banks and financial crises\"  22-05-1955   \n",
       "\n",
       "             Birth_Country              Birth_City Birth_Country_Code  \\\n",
       "0    Prussia (now Germany)  Lennep (now Remscheid)                 DE   \n",
       "1     Prussia (now Poland)   Hansdorf (now Lawice)                 PL   \n",
       "2              Switzerland                  Geneva                 CH   \n",
       "3                   France                   Paris                 FR   \n",
       "4                   France                   Paris                 FR   \n",
       "..                     ...                     ...                ...   \n",
       "984                 Sweden               Stockholm                 SE   \n",
       "985                    USA         Philadelphia PA                 US   \n",
       "986                    USA              Chicago IL                 US   \n",
       "987                    USA               Boston MA                 US   \n",
       "988                    USA          Gainesville FL                 US   \n",
       "\n",
       "     Death_Date Death_Country Death_City Death_Country_Code  \\\n",
       "0    10-02-1923       Germany     Munich                 DE   \n",
       "1    31-03-1917       Germany    Marburg                 DE   \n",
       "2    30-10-1910   Switzerland     Heiden                 CH   \n",
       "3    12-06-1912        France      Paris                 FR   \n",
       "4    07-09-1907        France   Châtenay                 FR   \n",
       "..          ...           ...        ...                ...   \n",
       "984  0000-00-00           NaN        NaN                NaN   \n",
       "985  0000-00-00           NaN        NaN                NaN   \n",
       "986  0000-00-00           NaN        NaN                NaN   \n",
       "987  0000-00-00           NaN        NaN                NaN   \n",
       "988  0000-00-00           NaN        NaN                NaN   \n",
       "\n",
       "                                     Organization_Name Organization_City  \\\n",
       "0                                    Munich University            Munich   \n",
       "1                                   Marburg University           Marburg   \n",
       "2                                                  NaN               NaN   \n",
       "3                                                  NaN               NaN   \n",
       "4                                                  NaN               NaN   \n",
       "..                                                 ...               ...   \n",
       "984  Max Planck Institute for Evolutionary Anthropo...           Leipzig   \n",
       "985                                   Scripps Research       La Jolla CA   \n",
       "986                              University of Chicago        Chicago IL   \n",
       "987                                Stanford University       Stanford CA   \n",
       "988                              Washington University      St. Louis MO   \n",
       "\n",
       "    Organization_Country                Fullname  \n",
       "0                Germany  Wilhelm Conrad Röntgen  \n",
       "1                Germany        Emil von Behring  \n",
       "2                    NaN            Henry Dunant  \n",
       "3                    NaN          Frédéric Passy  \n",
       "4                    NaN         Sully Prudhomme  \n",
       "..                   ...                     ...  \n",
       "984              Germany            Svante Pääbo  \n",
       "985                  USA         Barry Sharpless  \n",
       "986                  USA         Douglas Diamond  \n",
       "987                  USA        Carolyn Bertozzi  \n",
       "988                  USA           Philip Dybvig  \n",
       "\n",
       "[989 rows x 18 columns]"
      ]
     },
     "execution_count": 47,
     "metadata": {},
     "output_type": "execute_result"
    }
   ],
   "source": [
    "df"
   ]
  },
  {
   "cell_type": "code",
   "execution_count": 48,
   "metadata": {},
   "outputs": [
    {
     "data": {
      "text/plain": [
       "array(['physics', 'medicine', 'peace', 'literature', 'chemistry',\n",
       "       'economics'], dtype=object)"
      ]
     },
     "execution_count": 48,
     "metadata": {},
     "output_type": "execute_result"
    }
   ],
   "source": [
    "df.Category.unique()"
   ]
  },
  {
   "cell_type": "code",
   "execution_count": 49,
   "metadata": {},
   "outputs": [
    {
     "data": {
      "text/plain": [
       "array(['male', 'female', 'org'], dtype=object)"
      ]
     },
     "execution_count": 49,
     "metadata": {},
     "output_type": "execute_result"
    }
   ],
   "source": [
    "df.Gender.unique()"
   ]
  },
  {
   "cell_type": "code",
   "execution_count": 50,
   "metadata": {},
   "outputs": [
    {
     "data": {
      "text/plain": [
       "0      1845-03-27\n",
       "1      1854-03-15\n",
       "2      1828-05-08\n",
       "3      1822-05-20\n",
       "4      1839-03-16\n",
       "          ...    \n",
       "984    20-04-1955\n",
       "985    28-04-1941\n",
       "986    25-10-1953\n",
       "987    10-10-1966\n",
       "988    22-05-1955\n",
       "Name: Birth_Date, Length: 989, dtype: object"
      ]
     },
     "execution_count": 50,
     "metadata": {},
     "output_type": "execute_result"
    }
   ],
   "source": [
    "df.Birth_Date"
   ]
  },
  {
   "cell_type": "code",
   "execution_count": 52,
   "metadata": {},
   "outputs": [
    {
     "ename": "ValueError",
     "evalue": "time data \"1873-00-00\" at position 22 doesn't match format specified",
     "output_type": "error",
     "traceback": [
      "\u001b[1;31m---------------------------------------------------------------------------\u001b[0m",
      "\u001b[1;31mValueError\u001b[0m                                Traceback (most recent call last)",
      "Cell \u001b[1;32mIn[52], line 2\u001b[0m\n\u001b[0;32m      1\u001b[0m \u001b[39m# Convert the 'Date' column to datetime\u001b[39;00m\n\u001b[1;32m----> 2\u001b[0m df[\u001b[39m'\u001b[39m\u001b[39mBirth_Date\u001b[39m\u001b[39m'\u001b[39m] \u001b[39m=\u001b[39m pd\u001b[39m.\u001b[39;49mto_datetime(df[\u001b[39m'\u001b[39;49m\u001b[39mBirth_Date\u001b[39;49m\u001b[39m'\u001b[39;49m], \u001b[39mformat\u001b[39;49m\u001b[39m=\u001b[39;49m\u001b[39m'\u001b[39;49m\u001b[39m%\u001b[39;49m\u001b[39mY-\u001b[39;49m\u001b[39m%\u001b[39;49m\u001b[39mm-\u001b[39;49m\u001b[39m%d\u001b[39;49;00m\u001b[39m'\u001b[39;49m)\n\u001b[0;32m      4\u001b[0m \u001b[39m# Extract the year from the 'Date' column\u001b[39;00m\n\u001b[0;32m      5\u001b[0m df[\u001b[39m'\u001b[39m\u001b[39mBirth_Date\u001b[39m\u001b[39m'\u001b[39m] \u001b[39m=\u001b[39m df[\u001b[39m'\u001b[39m\u001b[39mBirth_Date\u001b[39m\u001b[39m'\u001b[39m]\u001b[39m.\u001b[39mdt\u001b[39m.\u001b[39myear\n",
      "File \u001b[1;32me:\\Python\\Lib\\site-packages\\pandas\\core\\tools\\datetimes.py:1068\u001b[0m, in \u001b[0;36mto_datetime\u001b[1;34m(arg, errors, dayfirst, yearfirst, utc, format, exact, unit, infer_datetime_format, origin, cache)\u001b[0m\n\u001b[0;32m   1066\u001b[0m         result \u001b[39m=\u001b[39m arg\u001b[39m.\u001b[39mmap(cache_array)\n\u001b[0;32m   1067\u001b[0m     \u001b[39melse\u001b[39;00m:\n\u001b[1;32m-> 1068\u001b[0m         values \u001b[39m=\u001b[39m convert_listlike(arg\u001b[39m.\u001b[39;49m_values, \u001b[39mformat\u001b[39;49m)\n\u001b[0;32m   1069\u001b[0m         result \u001b[39m=\u001b[39m arg\u001b[39m.\u001b[39m_constructor(values, index\u001b[39m=\u001b[39marg\u001b[39m.\u001b[39mindex, name\u001b[39m=\u001b[39marg\u001b[39m.\u001b[39mname)\n\u001b[0;32m   1070\u001b[0m \u001b[39melif\u001b[39;00m \u001b[39misinstance\u001b[39m(arg, (ABCDataFrame, abc\u001b[39m.\u001b[39mMutableMapping)):\n",
      "File \u001b[1;32me:\\Python\\Lib\\site-packages\\pandas\\core\\tools\\datetimes.py:438\u001b[0m, in \u001b[0;36m_convert_listlike_datetimes\u001b[1;34m(arg, format, name, tz, unit, errors, infer_datetime_format, dayfirst, yearfirst, exact)\u001b[0m\n\u001b[0;32m    436\u001b[0m \u001b[39massert\u001b[39;00m \u001b[39mformat\u001b[39m \u001b[39mis\u001b[39;00m \u001b[39mNone\u001b[39;00m \u001b[39mor\u001b[39;00m infer_datetime_format\n\u001b[0;32m    437\u001b[0m utc \u001b[39m=\u001b[39m tz \u001b[39m==\u001b[39m \u001b[39m\"\u001b[39m\u001b[39mutc\u001b[39m\u001b[39m\"\u001b[39m\n\u001b[1;32m--> 438\u001b[0m result, tz_parsed \u001b[39m=\u001b[39m objects_to_datetime64ns(\n\u001b[0;32m    439\u001b[0m     arg,\n\u001b[0;32m    440\u001b[0m     dayfirst\u001b[39m=\u001b[39;49mdayfirst,\n\u001b[0;32m    441\u001b[0m     yearfirst\u001b[39m=\u001b[39;49myearfirst,\n\u001b[0;32m    442\u001b[0m     utc\u001b[39m=\u001b[39;49mutc,\n\u001b[0;32m    443\u001b[0m     errors\u001b[39m=\u001b[39;49merrors,\n\u001b[0;32m    444\u001b[0m     require_iso8601\u001b[39m=\u001b[39;49mrequire_iso8601,\n\u001b[0;32m    445\u001b[0m     allow_object\u001b[39m=\u001b[39;49m\u001b[39mTrue\u001b[39;49;00m,\n\u001b[0;32m    446\u001b[0m )\n\u001b[0;32m    448\u001b[0m \u001b[39mif\u001b[39;00m tz_parsed \u001b[39mis\u001b[39;00m \u001b[39mnot\u001b[39;00m \u001b[39mNone\u001b[39;00m:\n\u001b[0;32m    449\u001b[0m     \u001b[39m# We can take a shortcut since the datetime64 numpy array\u001b[39;00m\n\u001b[0;32m    450\u001b[0m     \u001b[39m# is in UTC\u001b[39;00m\n\u001b[0;32m    451\u001b[0m     dta \u001b[39m=\u001b[39m DatetimeArray(result, dtype\u001b[39m=\u001b[39mtz_to_dtype(tz_parsed))\n",
      "File \u001b[1;32me:\\Python\\Lib\\site-packages\\pandas\\core\\arrays\\datetimes.py:2177\u001b[0m, in \u001b[0;36mobjects_to_datetime64ns\u001b[1;34m(data, dayfirst, yearfirst, utc, errors, require_iso8601, allow_object, allow_mixed)\u001b[0m\n\u001b[0;32m   2175\u001b[0m order: Literal[\u001b[39m\"\u001b[39m\u001b[39mF\u001b[39m\u001b[39m\"\u001b[39m, \u001b[39m\"\u001b[39m\u001b[39mC\u001b[39m\u001b[39m\"\u001b[39m] \u001b[39m=\u001b[39m \u001b[39m\"\u001b[39m\u001b[39mF\u001b[39m\u001b[39m\"\u001b[39m \u001b[39mif\u001b[39;00m flags\u001b[39m.\u001b[39mf_contiguous \u001b[39melse\u001b[39;00m \u001b[39m\"\u001b[39m\u001b[39mC\u001b[39m\u001b[39m\"\u001b[39m\n\u001b[0;32m   2176\u001b[0m \u001b[39mtry\u001b[39;00m:\n\u001b[1;32m-> 2177\u001b[0m     result, tz_parsed \u001b[39m=\u001b[39m tslib\u001b[39m.\u001b[39;49marray_to_datetime(\n\u001b[0;32m   2178\u001b[0m         data\u001b[39m.\u001b[39;49mravel(\u001b[39m\"\u001b[39;49m\u001b[39mK\u001b[39;49m\u001b[39m\"\u001b[39;49m),\n\u001b[0;32m   2179\u001b[0m         errors\u001b[39m=\u001b[39;49merrors,\n\u001b[0;32m   2180\u001b[0m         utc\u001b[39m=\u001b[39;49mutc,\n\u001b[0;32m   2181\u001b[0m         dayfirst\u001b[39m=\u001b[39;49mdayfirst,\n\u001b[0;32m   2182\u001b[0m         yearfirst\u001b[39m=\u001b[39;49myearfirst,\n\u001b[0;32m   2183\u001b[0m         require_iso8601\u001b[39m=\u001b[39;49mrequire_iso8601,\n\u001b[0;32m   2184\u001b[0m         allow_mixed\u001b[39m=\u001b[39;49mallow_mixed,\n\u001b[0;32m   2185\u001b[0m     )\n\u001b[0;32m   2186\u001b[0m     result \u001b[39m=\u001b[39m result\u001b[39m.\u001b[39mreshape(data\u001b[39m.\u001b[39mshape, order\u001b[39m=\u001b[39morder)\n\u001b[0;32m   2187\u001b[0m \u001b[39mexcept\u001b[39;00m \u001b[39mOverflowError\u001b[39;00m \u001b[39mas\u001b[39;00m err:\n\u001b[0;32m   2188\u001b[0m     \u001b[39m# Exception is raised when a part of date is greater than 32 bit signed int\u001b[39;00m\n",
      "File \u001b[1;32me:\\Python\\Lib\\site-packages\\pandas\\_libs\\tslib.pyx:427\u001b[0m, in \u001b[0;36mpandas._libs.tslib.array_to_datetime\u001b[1;34m()\u001b[0m\n",
      "File \u001b[1;32me:\\Python\\Lib\\site-packages\\pandas\\_libs\\tslib.pyx:599\u001b[0m, in \u001b[0;36mpandas._libs.tslib.array_to_datetime\u001b[1;34m()\u001b[0m\n",
      "\u001b[1;31mValueError\u001b[0m: time data \"1873-00-00\" at position 22 doesn't match format specified"
     ]
    }
   ],
   "source": [
    "# Convert the 'Date' column to datetime\n",
    "df['Birth_Date'] = pd.to_datetime(df['Birth_Date'], format='%Y-%m-%d')\n",
    "\n",
    "# Extract the year from the 'Date' column\n",
    "df['Birth_Date'] = df['Birth_Date'].dt.year\n"
   ]
  },
  {
   "cell_type": "code",
   "execution_count": 54,
   "metadata": {},
   "outputs": [
    {
     "data": {
      "text/plain": [
       "0      1845\n",
       "1      1854\n",
       "2      1828\n",
       "3      1822\n",
       "4      1839\n",
       "       ... \n",
       "984    1955\n",
       "985    1941\n",
       "986    1953\n",
       "987    1966\n",
       "988    1955\n",
       "Name: Birth_Date, Length: 989, dtype: object"
      ]
     },
     "execution_count": 54,
     "metadata": {},
     "output_type": "execute_result"
    }
   ],
   "source": [
    "import re\n",
    "df[\"Birth_Date\"]=df['Birth_Date'].astype(str)\n",
    "def birthdate(b) :\n",
    "    date=re.findall('\\d{4}',b)\n",
    "    return date[0] if date else None          \n",
    "        \n",
    "df['Birth_Date']=df['Birth_Date'].apply(birthdate)\n",
    "df['Birth_Date']"
   ]
  },
  {
   "cell_type": "code",
   "execution_count": 55,
   "metadata": {},
   "outputs": [],
   "source": [
    "df['Birth_Date'].fillna('not mentioned ',inplace=True)"
   ]
  },
  {
   "cell_type": "code",
   "execution_count": 56,
   "metadata": {},
   "outputs": [],
   "source": [
    "df['Birth_City'].fillna('not mention',inplace=True)"
   ]
  },
  {
   "cell_type": "code",
   "execution_count": 57,
   "metadata": {},
   "outputs": [
    {
     "data": {
      "text/plain": [
       "Year                      0\n",
       "Laureate_Id               0\n",
       "Category                  0\n",
       "Gender                    0\n",
       "Prize_Share               0\n",
       "Motivation                0\n",
       "Birth_Date                0\n",
       "Birth_Country            31\n",
       "Birth_City                0\n",
       "Birth_Country_Code       31\n",
       "Death_Date                0\n",
       "Death_Country           343\n",
       "Death_City              349\n",
       "Death_Country_Code      343\n",
       "Organization_Name       262\n",
       "Organization_City       267\n",
       "Organization_Country    265\n",
       "Fullname                  0\n",
       "dtype: int64"
      ]
     },
     "execution_count": 57,
     "metadata": {},
     "output_type": "execute_result"
    }
   ],
   "source": [
    "df.isnull().sum()"
   ]
  },
  {
   "cell_type": "code",
   "execution_count": 58,
   "metadata": {},
   "outputs": [],
   "source": [
    "df.Birth_Country.fillna('not mentioned',inplace=True)"
   ]
  },
  {
   "cell_type": "code",
   "execution_count": 60,
   "metadata": {},
   "outputs": [],
   "source": [
    "df.Birth_Country_Code.fillna('not mentioned',inplace=True)\n",
    "df.Death_Country.fillna('not mentioned',inplace=True)\n",
    "df.Death_City.fillna('not mentioned',inplace=True)\n",
    "df.Death_Country_Code.fillna('not mentioned',inplace=True)\n",
    "df.Organization_Name.fillna('not mentioned',inplace=True)\n",
    "df.Organization_City.fillna('not mentioned',inplace=True)\n",
    "df.Organization_Country.fillna('not mentioned',inplace=True)"
   ]
  },
  {
   "cell_type": "code",
   "execution_count": 61,
   "metadata": {},
   "outputs": [
    {
     "data": {
      "text/plain": [
       "Year                    0\n",
       "Laureate_Id             0\n",
       "Category                0\n",
       "Gender                  0\n",
       "Prize_Share             0\n",
       "Motivation              0\n",
       "Birth_Date              0\n",
       "Birth_Country           0\n",
       "Birth_City              0\n",
       "Birth_Country_Code      0\n",
       "Death_Date              0\n",
       "Death_Country           0\n",
       "Death_City              0\n",
       "Death_Country_Code      0\n",
       "Organization_Name       0\n",
       "Organization_City       0\n",
       "Organization_Country    0\n",
       "Fullname                0\n",
       "dtype: int64"
      ]
     },
     "execution_count": 61,
     "metadata": {},
     "output_type": "execute_result"
    }
   ],
   "source": [
    "df.isnull().sum()"
   ]
  },
  {
   "cell_type": "code",
   "execution_count": 63,
   "metadata": {},
   "outputs": [
    {
     "data": {
      "text/plain": [
       "<Axes: >"
      ]
     },
     "execution_count": 63,
     "metadata": {},
     "output_type": "execute_result"
    },
    {
     "data": {
      "image/png": "[encoded data removed]",
      "text/plain": [
       "<Figure size 640x480 with 1 Axes>"
      ]
     },
     "metadata": {},
     "output_type": "display_data"
    }
   ],
   "source": [
    "sns.heatmap(df.isnull(),cbar=False)"
   ]
  },
  {
   "cell_type": "code",
   "execution_count": 64,
   "metadata": {},
   "outputs": [
    {
     "data": {
      "image/png": "[encoded data removed]",
      "text/plain": [
       "<Figure size 640x480 with 1 Axes>"
      ]
     },
     "metadata": {},
     "output_type": "display_data"
    }
   ],
   "source": [
    "plt.title('Awards Per category')\n",
    "plt.xlabel(\"Category\")\n",
    "plt.ylabel(\"Count\")\n",
    "sns.countplot(data=df,x='Category')\n",
    "plt.show()"
   ]
  },
  {
   "cell_type": "code",
   "execution_count": 66,
   "metadata": {},
   "outputs": [
    {
     "data": {
      "image/png": "[encoded data removed]",
      "text/plain": [
       "<Figure size 640x480 with 1 Axes>"
      ]
     },
     "metadata": {},
     "output_type": "display_data"
    }
   ],
   "source": [
    "plt.title('Prize Share')\n",
    "plt.xlabel(\"Category\")\n",
    "plt.ylabel(\"Count\")\n",
    "sns.countplot(data=df,x='Prize_Share')\n",
    "plt.show()"
   ]
  },
  {
   "cell_type": "code",
   "execution_count": 69,
   "metadata": {},
   "outputs": [
    {
     "data": {
      "text/plain": [
       "<Axes: xlabel='Category', ylabel='Year'>"
      ]
     },
     "execution_count": 69,
     "metadata": {},
     "output_type": "execute_result"
    },
    {
     "data": {
      "image/png": "[encoded data removed]",
      "text/plain": [
       "<Figure size 640x480 with 1 Axes>"
      ]
     },
     "metadata": {},
     "output_type": "display_data"
    }
   ],
   "source": [
    "sns.boxplot(data=df,x='Category',y='Year')"
   ]
  }
 ],
 "metadata": {
  "kernelspec": {
   "display_name": "Python 3",
   "language": "python",
   "name": "python3"
  },
  "language_info": {
   "codemirror_mode": {
    "name": "ipython",
    "version": 3
   },
   "file_extension": ".py",
   "mimetype": "text/x-python",
   "name": "python",
   "nbconvert_exporter": "python",
   "pygments_lexer": "ipython3",
   "version": "3.11.1"
  },
  "orig_nbformat": 4
 },
 "nbformat": 4,
 "nbformat_minor": 2
}
