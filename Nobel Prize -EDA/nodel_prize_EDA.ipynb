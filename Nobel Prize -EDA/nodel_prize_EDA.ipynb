{
 "cells": [
  {
   "cell_type": "code",
   "execution_count": null,
   "metadata": {},
   "outputs": [],
   "source": [
    "%pip install seaborn"
   ]
  },
  {
   "cell_type": "code",
   "execution_count": 344,
   "metadata": {},
   "outputs": [],
   "source": [
    "import pandas as pd\n",
    "import numpy as np\n",
    "import matplotlib.pyplot as plt\n",
    "import seaborn as sns"
   ]
  },
  {
   "cell_type": "code",
   "execution_count": 345,
   "metadata": {},
   "outputs": [
    {
     "data": {
      "text/html": [
       "<div>\n",
       "<style scoped>\n",
       "    .dataframe tbody tr th:only-of-type {\n",
       "        vertical-align: middle;\n",
       "    }\n",
       "\n",
       "    .dataframe tbody tr th {\n",
       "        vertical-align: top;\n",
       "    }\n",
       "\n",
       "    .dataframe thead th {\n",
       "        text-align: right;\n",
       "    }\n",
       "</style>\n",
       "<table border=\"1\" class=\"dataframe\">\n",
       "  <thead>\n",
       "    <tr style=\"text-align: right;\">\n",
       "      <th></th>\n",
       "      <th>Year</th>\n",
       "      <th>Laureate_Id</th>\n",
       "      <th>Firstname</th>\n",
       "      <th>Lastname</th>\n",
       "      <th>Category</th>\n",
       "      <th>Gender</th>\n",
       "      <th>Prize_Share</th>\n",
       "      <th>Motivation</th>\n",
       "      <th>Birth_Date</th>\n",
       "      <th>Birth_Country</th>\n",
       "      <th>Birth_City</th>\n",
       "      <th>Birth_Country_Code</th>\n",
       "      <th>Death_Date</th>\n",
       "      <th>Death_Country</th>\n",
       "      <th>Death_City</th>\n",
       "      <th>Death_Country_Code</th>\n",
       "      <th>Organization_Name</th>\n",
       "      <th>Organization_City</th>\n",
       "      <th>Organization_Country</th>\n",
       "    </tr>\n",
       "  </thead>\n",
       "  <tbody>\n",
       "    <tr>\n",
       "      <th>0</th>\n",
       "      <td>1901</td>\n",
       "      <td>1</td>\n",
       "      <td>Wilhelm Conrad</td>\n",
       "      <td>Röntgen</td>\n",
       "      <td>physics</td>\n",
       "      <td>male</td>\n",
       "      <td>1</td>\n",
       "      <td>\"in recognition of the extraordinary services ...</td>\n",
       "      <td>1845-03-27</td>\n",
       "      <td>Prussia (now Germany)</td>\n",
       "      <td>Lennep (now Remscheid)</td>\n",
       "      <td>DE</td>\n",
       "      <td>10-02-1923</td>\n",
       "      <td>Germany</td>\n",
       "      <td>Munich</td>\n",
       "      <td>DE</td>\n",
       "      <td>Munich University</td>\n",
       "      <td>Munich</td>\n",
       "      <td>Germany</td>\n",
       "    </tr>\n",
       "    <tr>\n",
       "      <th>1</th>\n",
       "      <td>1901</td>\n",
       "      <td>293</td>\n",
       "      <td>Emil</td>\n",
       "      <td>von Behring</td>\n",
       "      <td>medicine</td>\n",
       "      <td>male</td>\n",
       "      <td>1</td>\n",
       "      <td>\"for his work on serum therapy especially its ...</td>\n",
       "      <td>1854-03-15</td>\n",
       "      <td>Prussia (now Poland)</td>\n",
       "      <td>Hansdorf (now Lawice)</td>\n",
       "      <td>PL</td>\n",
       "      <td>31-03-1917</td>\n",
       "      <td>Germany</td>\n",
       "      <td>Marburg</td>\n",
       "      <td>DE</td>\n",
       "      <td>Marburg University</td>\n",
       "      <td>Marburg</td>\n",
       "      <td>Germany</td>\n",
       "    </tr>\n",
       "    <tr>\n",
       "      <th>2</th>\n",
       "      <td>1901</td>\n",
       "      <td>462</td>\n",
       "      <td>Henry</td>\n",
       "      <td>Dunant</td>\n",
       "      <td>peace</td>\n",
       "      <td>male</td>\n",
       "      <td>2</td>\n",
       "      <td>\"for his humanitarian efforts to help wounded ...</td>\n",
       "      <td>1828-05-08</td>\n",
       "      <td>Switzerland</td>\n",
       "      <td>Geneva</td>\n",
       "      <td>CH</td>\n",
       "      <td>30-10-1910</td>\n",
       "      <td>Switzerland</td>\n",
       "      <td>Heiden</td>\n",
       "      <td>CH</td>\n",
       "      <td>NaN</td>\n",
       "      <td>NaN</td>\n",
       "      <td>NaN</td>\n",
       "    </tr>\n",
       "    <tr>\n",
       "      <th>3</th>\n",
       "      <td>1901</td>\n",
       "      <td>463</td>\n",
       "      <td>Frédéric</td>\n",
       "      <td>Passy</td>\n",
       "      <td>peace</td>\n",
       "      <td>male</td>\n",
       "      <td>2</td>\n",
       "      <td>\"for his lifelong work for international peace...</td>\n",
       "      <td>1822-05-20</td>\n",
       "      <td>France</td>\n",
       "      <td>Paris</td>\n",
       "      <td>FR</td>\n",
       "      <td>12-06-1912</td>\n",
       "      <td>France</td>\n",
       "      <td>Paris</td>\n",
       "      <td>FR</td>\n",
       "      <td>NaN</td>\n",
       "      <td>NaN</td>\n",
       "      <td>NaN</td>\n",
       "    </tr>\n",
       "    <tr>\n",
       "      <th>4</th>\n",
       "      <td>1901</td>\n",
       "      <td>569</td>\n",
       "      <td>Sully</td>\n",
       "      <td>Prudhomme</td>\n",
       "      <td>literature</td>\n",
       "      <td>male</td>\n",
       "      <td>1</td>\n",
       "      <td>\"in special recognition of his poetic composit...</td>\n",
       "      <td>1839-03-16</td>\n",
       "      <td>France</td>\n",
       "      <td>Paris</td>\n",
       "      <td>FR</td>\n",
       "      <td>07-09-1907</td>\n",
       "      <td>France</td>\n",
       "      <td>Châtenay</td>\n",
       "      <td>FR</td>\n",
       "      <td>NaN</td>\n",
       "      <td>NaN</td>\n",
       "      <td>NaN</td>\n",
       "    </tr>\n",
       "  </tbody>\n",
       "</table>\n",
       "</div>"
      ],
      "text/plain": [
       "   Year  Laureate_Id       Firstname     Lastname    Category Gender  \\\n",
       "0  1901            1  Wilhelm Conrad      Röntgen     physics   male   \n",
       "1  1901          293            Emil  von Behring    medicine   male   \n",
       "2  1901          462           Henry       Dunant       peace   male   \n",
       "3  1901          463        Frédéric        Passy       peace   male   \n",
       "4  1901          569           Sully    Prudhomme  literature   male   \n",
       "\n",
       "   Prize_Share                                         Motivation  Birth_Date  \\\n",
       "0            1  \"in recognition of the extraordinary services ...  1845-03-27   \n",
       "1            1  \"for his work on serum therapy especially its ...  1854-03-15   \n",
       "2            2  \"for his humanitarian efforts to help wounded ...  1828-05-08   \n",
       "3            2  \"for his lifelong work for international peace...  1822-05-20   \n",
       "4            1  \"in special recognition of his poetic composit...  1839-03-16   \n",
       "\n",
       "           Birth_Country              Birth_City Birth_Country_Code  \\\n",
       "0  Prussia (now Germany)  Lennep (now Remscheid)                 DE   \n",
       "1   Prussia (now Poland)   Hansdorf (now Lawice)                 PL   \n",
       "2            Switzerland                  Geneva                 CH   \n",
       "3                 France                   Paris                 FR   \n",
       "4                 France                   Paris                 FR   \n",
       "\n",
       "   Death_Date Death_Country Death_City Death_Country_Code   Organization_Name  \\\n",
       "0  10-02-1923       Germany     Munich                 DE   Munich University   \n",
       "1  31-03-1917       Germany    Marburg                 DE  Marburg University   \n",
       "2  30-10-1910   Switzerland     Heiden                 CH                 NaN   \n",
       "3  12-06-1912        France      Paris                 FR                 NaN   \n",
       "4  07-09-1907        France   Châtenay                 FR                 NaN   \n",
       "\n",
       "  Organization_City Organization_Country  \n",
       "0            Munich              Germany  \n",
       "1           Marburg              Germany  \n",
       "2               NaN                  NaN  \n",
       "3               NaN                  NaN  \n",
       "4               NaN                  NaN  "
      ]
     },
     "execution_count": 345,
     "metadata": {},
     "output_type": "execute_result"
    }
   ],
   "source": [
    "# Importing dataset\n",
    "df=pd.read_csv(r'C:\\Users\\19pw03\\Downloads\\nobel_latest.csv')\n",
    "df.head(5)"
   ]
  },
  {
   "cell_type": "code",
   "execution_count": 346,
   "metadata": {},
   "outputs": [
    {
     "name": "stdout",
     "output_type": "stream",
     "text": [
      "<class 'pandas.core.frame.DataFrame'>\n",
      "RangeIndex: 989 entries, 0 to 988\n",
      "Data columns (total 19 columns):\n",
      " #   Column                Non-Null Count  Dtype \n",
      "---  ------                --------------  ----- \n",
      " 0   Year                  989 non-null    int64 \n",
      " 1   Laureate_Id           989 non-null    int64 \n",
      " 2   Firstname             989 non-null    object\n",
      " 3   Lastname              957 non-null    object\n",
      " 4   Category              989 non-null    object\n",
      " 5   Gender                989 non-null    object\n",
      " 6   Prize_Share           989 non-null    int64 \n",
      " 7   Motivation            989 non-null    object\n",
      " 8   Birth_Date            989 non-null    object\n",
      " 9   Birth_Country         958 non-null    object\n",
      " 10  Birth_City            956 non-null    object\n",
      " 11  Birth_Country_Code    958 non-null    object\n",
      " 12  Death_Date            989 non-null    object\n",
      " 13  Death_Country         646 non-null    object\n",
      " 14  Death_City            640 non-null    object\n",
      " 15  Death_Country_Code    646 non-null    object\n",
      " 16  Organization_Name     727 non-null    object\n",
      " 17  Organization_City     722 non-null    object\n",
      " 18  Organization_Country  724 non-null    object\n",
      "dtypes: int64(3), object(16)\n",
      "memory usage: 146.9+ KB\n"
     ]
    }
   ],
   "source": [
    "df.info()"
   ]
  },
  {
   "cell_type": "code",
   "execution_count": 347,
   "metadata": {},
   "outputs": [
    {
     "data": {
      "text/plain": [
       "Index(['Year', 'Laureate_Id', 'Firstname', 'Lastname', 'Category', 'Gender',\n",
       "       'Prize_Share', 'Motivation', 'Birth_Date', 'Birth_Country',\n",
       "       'Birth_City', 'Birth_Country_Code', 'Death_Date', 'Death_Country',\n",
       "       'Death_City', 'Death_Country_Code', 'Organization_Name',\n",
       "       'Organization_City', 'Organization_Country'],\n",
       "      dtype='object')"
      ]
     },
     "execution_count": 347,
     "metadata": {},
     "output_type": "execute_result"
    }
   ],
   "source": [
    "df.columns"
   ]
  },
  {
   "cell_type": "code",
   "execution_count": 348,
   "metadata": {},
   "outputs": [
    {
     "data": {
      "text/plain": [
       "(989, 19)"
      ]
     },
     "execution_count": 348,
     "metadata": {},
     "output_type": "execute_result"
    }
   ],
   "source": [
    "df.shape"
   ]
  },
  {
   "cell_type": "code",
   "execution_count": 349,
   "metadata": {},
   "outputs": [
    {
     "data": {
      "text/plain": [
       "<Axes: >"
      ]
     },
     "execution_count": 349,
     "metadata": {},
     "output_type": "execute_result"
    },
    {
     "data": {
      "image/png": "[encoded data removed]",
      "text/plain": [
       "<Figure size 640x480 with 2 Axes>"
      ]
     },
     "metadata": {},
     "output_type": "display_data"
    }
   ],
   "source": [
    "# Displaying the null values using heatmap\n",
    "sns.heatmap(df.isnull())"
   ]
  },
  {
   "cell_type": "code",
   "execution_count": 350,
   "metadata": {},
   "outputs": [
    {
     "data": {
      "text/plain": [
       "array([1901, 1902, 1903, 1904, 1905, 1906, 1907, 1908, 1909, 1910, 1911,\n",
       "       1912, 1913, 1914, 1915, 1916, 1917, 1918, 1919, 1920, 1921, 1922,\n",
       "       1923, 1924, 1925, 1926, 1927, 1928, 1929, 1930, 1931, 1932, 1933,\n",
       "       1934, 1935, 1936, 1937, 1938, 1939, 1943, 1944, 1945, 1946, 1947,\n",
       "       1948, 1949, 1950, 1951, 1952, 1953, 1954, 1955, 1956, 1957, 1958,\n",
       "       1959, 1960, 1961, 1962, 1963, 1964, 1965, 1966, 1967, 1968, 1969,\n",
       "       1970, 1971, 1972, 1973, 1974, 1975, 1976, 1977, 1978, 1979, 1980,\n",
       "       1981, 1982, 1983, 1984, 1985, 1986, 1987, 1988, 1989, 1990, 1991,\n",
       "       1992, 1993, 1994, 1995, 1996, 1997, 1998, 1999, 2000, 2001, 2002,\n",
       "       2003, 2004, 2005, 2006, 2007, 2008, 2009, 2010, 2011, 2012, 2013,\n",
       "       2014, 2015, 2016, 2017, 2018, 2019, 2020, 2021, 2022], dtype=int64)"
      ]
     },
     "execution_count": 350,
     "metadata": {},
     "output_type": "execute_result"
    }
   ],
   "source": [
    "df['Year'].unique()"
   ]
  },
  {
   "cell_type": "code",
   "execution_count": 351,
   "metadata": {},
   "outputs": [
    {
     "data": {
      "text/plain": [
       "32"
      ]
     },
     "execution_count": 351,
     "metadata": {},
     "output_type": "execute_result"
    }
   ],
   "source": [
    "df['Lastname'].isnull().sum()"
   ]
  },
  {
   "cell_type": "code",
   "execution_count": 352,
   "metadata": {},
   "outputs": [],
   "source": [
    "df['Lastname'].fillna(\"\",inplace=True)"
   ]
  },
  {
   "cell_type": "code",
   "execution_count": 353,
   "metadata": {},
   "outputs": [
    {
     "data": {
      "text/plain": [
       "0"
      ]
     },
     "execution_count": 353,
     "metadata": {},
     "output_type": "execute_result"
    }
   ],
   "source": [
    "df['Lastname'].isnull().sum()"
   ]
  },
  {
   "cell_type": "code",
   "execution_count": 354,
   "metadata": {},
   "outputs": [
    {
     "data": {
      "text/plain": [
       "0      Wilhelm Conrad Röntgen\n",
       "1            Emil von Behring\n",
       "2                Henry Dunant\n",
       "3              Frédéric Passy\n",
       "4             Sully Prudhomme\n",
       "                ...          \n",
       "984              Svante Pääbo\n",
       "985           Barry Sharpless\n",
       "986           Douglas Diamond\n",
       "987          Carolyn Bertozzi\n",
       "988             Philip Dybvig\n",
       "Name: Fullname, Length: 989, dtype: object"
      ]
     },
     "execution_count": 354,
     "metadata": {},
     "output_type": "execute_result"
    }
   ],
   "source": [
    "# combining first and last name as Full Name \n",
    "df['Fullname']=df['Firstname']+\" \"+df['Lastname']\n",
    "df['Fullname']"
   ]
  },
  {
   "cell_type": "code",
   "execution_count": 355,
   "metadata": {},
   "outputs": [],
   "source": [
    "# Droping first and last name\n",
    "df=df.drop(['Firstname','Lastname'],axis=1)"
   ]
  },
  {
   "cell_type": "code",
   "execution_count": 356,
   "metadata": {},
   "outputs": [
    {
     "data": {
      "text/html": [
       "<div>\n",
       "<style scoped>\n",
       "    .dataframe tbody tr th:only-of-type {\n",
       "        vertical-align: middle;\n",
       "    }\n",
       "\n",
       "    .dataframe tbody tr th {\n",
       "        vertical-align: top;\n",
       "    }\n",
       "\n",
       "    .dataframe thead th {\n",
       "        text-align: right;\n",
       "    }\n",
       "</style>\n",
       "<table border=\"1\" class=\"dataframe\">\n",
       "  <thead>\n",
       "    <tr style=\"text-align: right;\">\n",
       "      <th></th>\n",
       "      <th>Year</th>\n",
       "      <th>Laureate_Id</th>\n",
       "      <th>Category</th>\n",
       "      <th>Gender</th>\n",
       "      <th>Prize_Share</th>\n",
       "      <th>Motivation</th>\n",
       "      <th>Birth_Date</th>\n",
       "      <th>Birth_Country</th>\n",
       "      <th>Birth_City</th>\n",
       "      <th>Birth_Country_Code</th>\n",
       "      <th>Death_Date</th>\n",
       "      <th>Death_Country</th>\n",
       "      <th>Death_City</th>\n",
       "      <th>Death_Country_Code</th>\n",
       "      <th>Organization_Name</th>\n",
       "      <th>Organization_City</th>\n",
       "      <th>Organization_Country</th>\n",
       "      <th>Fullname</th>\n",
       "    </tr>\n",
       "  </thead>\n",
       "  <tbody>\n",
       "    <tr>\n",
       "      <th>0</th>\n",
       "      <td>1901</td>\n",
       "      <td>1</td>\n",
       "      <td>physics</td>\n",
       "      <td>male</td>\n",
       "      <td>1</td>\n",
       "      <td>\"in recognition of the extraordinary services ...</td>\n",
       "      <td>1845-03-27</td>\n",
       "      <td>Prussia (now Germany)</td>\n",
       "      <td>Lennep (now Remscheid)</td>\n",
       "      <td>DE</td>\n",
       "      <td>10-02-1923</td>\n",
       "      <td>Germany</td>\n",
       "      <td>Munich</td>\n",
       "      <td>DE</td>\n",
       "      <td>Munich University</td>\n",
       "      <td>Munich</td>\n",
       "      <td>Germany</td>\n",
       "      <td>Wilhelm Conrad Röntgen</td>\n",
       "    </tr>\n",
       "    <tr>\n",
       "      <th>1</th>\n",
       "      <td>1901</td>\n",
       "      <td>293</td>\n",
       "      <td>medicine</td>\n",
       "      <td>male</td>\n",
       "      <td>1</td>\n",
       "      <td>\"for his work on serum therapy especially its ...</td>\n",
       "      <td>1854-03-15</td>\n",
       "      <td>Prussia (now Poland)</td>\n",
       "      <td>Hansdorf (now Lawice)</td>\n",
       "      <td>PL</td>\n",
       "      <td>31-03-1917</td>\n",
       "      <td>Germany</td>\n",
       "      <td>Marburg</td>\n",
       "      <td>DE</td>\n",
       "      <td>Marburg University</td>\n",
       "      <td>Marburg</td>\n",
       "      <td>Germany</td>\n",
       "      <td>Emil von Behring</td>\n",
       "    </tr>\n",
       "    <tr>\n",
       "      <th>2</th>\n",
       "      <td>1901</td>\n",
       "      <td>462</td>\n",
       "      <td>peace</td>\n",
       "      <td>male</td>\n",
       "      <td>2</td>\n",
       "      <td>\"for his humanitarian efforts to help wounded ...</td>\n",
       "      <td>1828-05-08</td>\n",
       "      <td>Switzerland</td>\n",
       "      <td>Geneva</td>\n",
       "      <td>CH</td>\n",
       "      <td>30-10-1910</td>\n",
       "      <td>Switzerland</td>\n",
       "      <td>Heiden</td>\n",
       "      <td>CH</td>\n",
       "      <td>NaN</td>\n",
       "      <td>NaN</td>\n",
       "      <td>NaN</td>\n",
       "      <td>Henry Dunant</td>\n",
       "    </tr>\n",
       "    <tr>\n",
       "      <th>3</th>\n",
       "      <td>1901</td>\n",
       "      <td>463</td>\n",
       "      <td>peace</td>\n",
       "      <td>male</td>\n",
       "      <td>2</td>\n",
       "      <td>\"for his lifelong work for international peace...</td>\n",
       "      <td>1822-05-20</td>\n",
       "      <td>France</td>\n",
       "      <td>Paris</td>\n",
       "      <td>FR</td>\n",
       "      <td>12-06-1912</td>\n",
       "      <td>France</td>\n",
       "      <td>Paris</td>\n",
       "      <td>FR</td>\n",
       "      <td>NaN</td>\n",
       "      <td>NaN</td>\n",
       "      <td>NaN</td>\n",
       "      <td>Frédéric Passy</td>\n",
       "    </tr>\n",
       "    <tr>\n",
       "      <th>4</th>\n",
       "      <td>1901</td>\n",
       "      <td>569</td>\n",
       "      <td>literature</td>\n",
       "      <td>male</td>\n",
       "      <td>1</td>\n",
       "      <td>\"in special recognition of his poetic composit...</td>\n",
       "      <td>1839-03-16</td>\n",
       "      <td>France</td>\n",
       "      <td>Paris</td>\n",
       "      <td>FR</td>\n",
       "      <td>07-09-1907</td>\n",
       "      <td>France</td>\n",
       "      <td>Châtenay</td>\n",
       "      <td>FR</td>\n",
       "      <td>NaN</td>\n",
       "      <td>NaN</td>\n",
       "      <td>NaN</td>\n",
       "      <td>Sully Prudhomme</td>\n",
       "    </tr>\n",
       "    <tr>\n",
       "      <th>...</th>\n",
       "      <td>...</td>\n",
       "      <td>...</td>\n",
       "      <td>...</td>\n",
       "      <td>...</td>\n",
       "      <td>...</td>\n",
       "      <td>...</td>\n",
       "      <td>...</td>\n",
       "      <td>...</td>\n",
       "      <td>...</td>\n",
       "      <td>...</td>\n",
       "      <td>...</td>\n",
       "      <td>...</td>\n",
       "      <td>...</td>\n",
       "      <td>...</td>\n",
       "      <td>...</td>\n",
       "      <td>...</td>\n",
       "      <td>...</td>\n",
       "      <td>...</td>\n",
       "    </tr>\n",
       "    <tr>\n",
       "      <th>984</th>\n",
       "      <td>2022</td>\n",
       "      <td>1011</td>\n",
       "      <td>medicine</td>\n",
       "      <td>male</td>\n",
       "      <td>1</td>\n",
       "      <td>\"for his discoveries concerning the genomes of...</td>\n",
       "      <td>20-04-1955</td>\n",
       "      <td>Sweden</td>\n",
       "      <td>Stockholm</td>\n",
       "      <td>SE</td>\n",
       "      <td>0000-00-00</td>\n",
       "      <td>NaN</td>\n",
       "      <td>NaN</td>\n",
       "      <td>NaN</td>\n",
       "      <td>Max Planck Institute for Evolutionary Anthropo...</td>\n",
       "      <td>Leipzig</td>\n",
       "      <td>Germany</td>\n",
       "      <td>Svante Pääbo</td>\n",
       "    </tr>\n",
       "    <tr>\n",
       "      <th>985</th>\n",
       "      <td>2022</td>\n",
       "      <td>743</td>\n",
       "      <td>chemistry</td>\n",
       "      <td>male</td>\n",
       "      <td>3</td>\n",
       "      <td>\"for the development of click chemistry and bi...</td>\n",
       "      <td>28-04-1941</td>\n",
       "      <td>USA</td>\n",
       "      <td>Philadelphia PA</td>\n",
       "      <td>US</td>\n",
       "      <td>0000-00-00</td>\n",
       "      <td>NaN</td>\n",
       "      <td>NaN</td>\n",
       "      <td>NaN</td>\n",
       "      <td>Scripps Research</td>\n",
       "      <td>La Jolla CA</td>\n",
       "      <td>USA</td>\n",
       "      <td>Barry Sharpless</td>\n",
       "    </tr>\n",
       "    <tr>\n",
       "      <th>986</th>\n",
       "      <td>2022</td>\n",
       "      <td>1022</td>\n",
       "      <td>economics</td>\n",
       "      <td>male</td>\n",
       "      <td>3</td>\n",
       "      <td>\"for research on banks and financial crises\"</td>\n",
       "      <td>25-10-1953</td>\n",
       "      <td>USA</td>\n",
       "      <td>Chicago IL</td>\n",
       "      <td>US</td>\n",
       "      <td>0000-00-00</td>\n",
       "      <td>NaN</td>\n",
       "      <td>NaN</td>\n",
       "      <td>NaN</td>\n",
       "      <td>University of Chicago</td>\n",
       "      <td>Chicago IL</td>\n",
       "      <td>USA</td>\n",
       "      <td>Douglas Diamond</td>\n",
       "    </tr>\n",
       "    <tr>\n",
       "      <th>987</th>\n",
       "      <td>2022</td>\n",
       "      <td>1015</td>\n",
       "      <td>chemistry</td>\n",
       "      <td>female</td>\n",
       "      <td>3</td>\n",
       "      <td>\"for the development of click chemistry and bi...</td>\n",
       "      <td>10-10-1966</td>\n",
       "      <td>USA</td>\n",
       "      <td>Boston MA</td>\n",
       "      <td>US</td>\n",
       "      <td>0000-00-00</td>\n",
       "      <td>NaN</td>\n",
       "      <td>NaN</td>\n",
       "      <td>NaN</td>\n",
       "      <td>Stanford University</td>\n",
       "      <td>Stanford CA</td>\n",
       "      <td>USA</td>\n",
       "      <td>Carolyn Bertozzi</td>\n",
       "    </tr>\n",
       "    <tr>\n",
       "      <th>988</th>\n",
       "      <td>2022</td>\n",
       "      <td>1023</td>\n",
       "      <td>economics</td>\n",
       "      <td>male</td>\n",
       "      <td>3</td>\n",
       "      <td>\"for research on banks and financial crises\"</td>\n",
       "      <td>22-05-1955</td>\n",
       "      <td>USA</td>\n",
       "      <td>Gainesville FL</td>\n",
       "      <td>US</td>\n",
       "      <td>0000-00-00</td>\n",
       "      <td>NaN</td>\n",
       "      <td>NaN</td>\n",
       "      <td>NaN</td>\n",
       "      <td>Washington University</td>\n",
       "      <td>St. Louis MO</td>\n",
       "      <td>USA</td>\n",
       "      <td>Philip Dybvig</td>\n",
       "    </tr>\n",
       "  </tbody>\n",
       "</table>\n",
       "<p>989 rows × 18 columns</p>\n",
       "</div>"
      ],
      "text/plain": [
       "     Year  Laureate_Id    Category  Gender  Prize_Share  \\\n",
       "0    1901            1     physics    male            1   \n",
       "1    1901          293    medicine    male            1   \n",
       "2    1901          462       peace    male            2   \n",
       "3    1901          463       peace    male            2   \n",
       "4    1901          569  literature    male            1   \n",
       "..    ...          ...         ...     ...          ...   \n",
       "984  2022         1011    medicine    male            1   \n",
       "985  2022          743   chemistry    male            3   \n",
       "986  2022         1022   economics    male            3   \n",
       "987  2022         1015   chemistry  female            3   \n",
       "988  2022         1023   economics    male            3   \n",
       "\n",
       "                                            Motivation  Birth_Date  \\\n",
       "0    \"in recognition of the extraordinary services ...  1845-03-27   \n",
       "1    \"for his work on serum therapy especially its ...  1854-03-15   \n",
       "2    \"for his humanitarian efforts to help wounded ...  1828-05-08   \n",
       "3    \"for his lifelong work for international peace...  1822-05-20   \n",
       "4    \"in special recognition of his poetic composit...  1839-03-16   \n",
       "..                                                 ...         ...   \n",
       "984  \"for his discoveries concerning the genomes of...  20-04-1955   \n",
       "985  \"for the development of click chemistry and bi...  28-04-1941   \n",
       "986       \"for research on banks and financial crises\"  25-10-1953   \n",
       "987  \"for the development of click chemistry and bi...  10-10-1966   \n",
       "988       \"for research on banks and financial crises\"  22-05-1955   \n",
       "\n",
       "             Birth_Country              Birth_City Birth_Country_Code  \\\n",
       "0    Prussia (now Germany)  Lennep (now Remscheid)                 DE   \n",
       "1     Prussia (now Poland)   Hansdorf (now Lawice)                 PL   \n",
       "2              Switzerland                  Geneva                 CH   \n",
       "3                   France                   Paris                 FR   \n",
       "4                   France                   Paris                 FR   \n",
       "..                     ...                     ...                ...   \n",
       "984                 Sweden               Stockholm                 SE   \n",
       "985                    USA         Philadelphia PA                 US   \n",
       "986                    USA              Chicago IL                 US   \n",
       "987                    USA               Boston MA                 US   \n",
       "988                    USA          Gainesville FL                 US   \n",
       "\n",
       "     Death_Date Death_Country Death_City Death_Country_Code  \\\n",
       "0    10-02-1923       Germany     Munich                 DE   \n",
       "1    31-03-1917       Germany    Marburg                 DE   \n",
       "2    30-10-1910   Switzerland     Heiden                 CH   \n",
       "3    12-06-1912        France      Paris                 FR   \n",
       "4    07-09-1907        France   Châtenay                 FR   \n",
       "..          ...           ...        ...                ...   \n",
       "984  0000-00-00           NaN        NaN                NaN   \n",
       "985  0000-00-00           NaN        NaN                NaN   \n",
       "986  0000-00-00           NaN        NaN                NaN   \n",
       "987  0000-00-00           NaN        NaN                NaN   \n",
       "988  0000-00-00           NaN        NaN                NaN   \n",
       "\n",
       "                                     Organization_Name Organization_City  \\\n",
       "0                                    Munich University            Munich   \n",
       "1                                   Marburg University           Marburg   \n",
       "2                                                  NaN               NaN   \n",
       "3                                                  NaN               NaN   \n",
       "4                                                  NaN               NaN   \n",
       "..                                                 ...               ...   \n",
       "984  Max Planck Institute for Evolutionary Anthropo...           Leipzig   \n",
       "985                                   Scripps Research       La Jolla CA   \n",
       "986                              University of Chicago        Chicago IL   \n",
       "987                                Stanford University       Stanford CA   \n",
       "988                              Washington University      St. Louis MO   \n",
       "\n",
       "    Organization_Country                Fullname  \n",
       "0                Germany  Wilhelm Conrad Röntgen  \n",
       "1                Germany        Emil von Behring  \n",
       "2                    NaN            Henry Dunant  \n",
       "3                    NaN          Frédéric Passy  \n",
       "4                    NaN         Sully Prudhomme  \n",
       "..                   ...                     ...  \n",
       "984              Germany            Svante Pääbo  \n",
       "985                  USA         Barry Sharpless  \n",
       "986                  USA         Douglas Diamond  \n",
       "987                  USA        Carolyn Bertozzi  \n",
       "988                  USA           Philip Dybvig  \n",
       "\n",
       "[989 rows x 18 columns]"
      ]
     },
     "execution_count": 356,
     "metadata": {},
     "output_type": "execute_result"
    }
   ],
   "source": [
    "df"
   ]
  },
  {
   "cell_type": "code",
   "execution_count": 357,
   "metadata": {},
   "outputs": [
    {
     "data": {
      "text/plain": [
       "array(['physics', 'medicine', 'peace', 'literature', 'chemistry',\n",
       "       'economics'], dtype=object)"
      ]
     },
     "execution_count": 357,
     "metadata": {},
     "output_type": "execute_result"
    }
   ],
   "source": [
    "df.Category.unique()"
   ]
  },
  {
   "cell_type": "code",
   "execution_count": 358,
   "metadata": {},
   "outputs": [
    {
     "data": {
      "text/plain": [
       "array(['male', 'female', 'org'], dtype=object)"
      ]
     },
     "execution_count": 358,
     "metadata": {},
     "output_type": "execute_result"
    }
   ],
   "source": [
    "df.Gender.unique()"
   ]
  },
  {
   "cell_type": "code",
   "execution_count": 359,
   "metadata": {},
   "outputs": [
    {
     "data": {
      "text/plain": [
       "0      1845-03-27\n",
       "1      1854-03-15\n",
       "2      1828-05-08\n",
       "3      1822-05-20\n",
       "4      1839-03-16\n",
       "          ...    \n",
       "984    20-04-1955\n",
       "985    28-04-1941\n",
       "986    25-10-1953\n",
       "987    10-10-1966\n",
       "988    22-05-1955\n",
       "Name: Birth_Date, Length: 989, dtype: object"
      ]
     },
     "execution_count": 359,
     "metadata": {},
     "output_type": "execute_result"
    }
   ],
   "source": [
    "df.Birth_Date"
   ]
  },
  {
   "attachments": {},
   "cell_type": "markdown",
   "metadata": {},
   "source": [
    "Since Birth_Date does't follow any format we cant use the below method"
   ]
  },
  {
   "cell_type": "code",
   "execution_count": 360,
   "metadata": {},
   "outputs": [
    {
     "ename": "ValueError",
     "evalue": "time data \"1873-00-00\" doesn't match format \"%Y-%m-%d\", at position 22. You might want to try:\n    - passing `format` if your strings have a consistent format;\n    - passing `format='ISO8601'` if your strings are all ISO8601 but not necessarily in exactly the same format;\n    - passing `format='mixed'`, and the format will be inferred for each element individually. You might want to use `dayfirst` alongside this.",
     "output_type": "error",
     "traceback": [
      "\u001b[1;31m---------------------------------------------------------------------------\u001b[0m",
      "\u001b[1;31mValueError\u001b[0m                                Traceback (most recent call last)",
      "Cell \u001b[1;32mIn[360], line 2\u001b[0m\n\u001b[0;32m      1\u001b[0m \u001b[39m# Convert the 'Date' column to datetime\u001b[39;00m\n\u001b[1;32m----> 2\u001b[0m df[\u001b[39m'\u001b[39m\u001b[39mBirth_Date\u001b[39m\u001b[39m'\u001b[39m] \u001b[39m=\u001b[39m pd\u001b[39m.\u001b[39;49mto_datetime(df[\u001b[39m'\u001b[39;49m\u001b[39mBirth_Date\u001b[39;49m\u001b[39m'\u001b[39;49m], \u001b[39mformat\u001b[39;49m\u001b[39m=\u001b[39;49m\u001b[39m'\u001b[39;49m\u001b[39m%\u001b[39;49m\u001b[39mY-\u001b[39;49m\u001b[39m%\u001b[39;49m\u001b[39mm-\u001b[39;49m\u001b[39m%d\u001b[39;49;00m\u001b[39m'\u001b[39;49m)\n\u001b[0;32m      4\u001b[0m \u001b[39m# Extract the year from the 'Date' column\u001b[39;00m\n\u001b[0;32m      5\u001b[0m df[\u001b[39m'\u001b[39m\u001b[39mBirth_Date\u001b[39m\u001b[39m'\u001b[39m] \u001b[39m=\u001b[39m df[\u001b[39m'\u001b[39m\u001b[39mBirth_Date\u001b[39m\u001b[39m'\u001b[39m]\u001b[39m.\u001b[39mdt\u001b[39m.\u001b[39myear\n",
      "File \u001b[1;32m~\\AppData\\Roaming\\Python\\Python39\\site-packages\\pandas\\core\\tools\\datetimes.py:1050\u001b[0m, in \u001b[0;36mto_datetime\u001b[1;34m(arg, errors, dayfirst, yearfirst, utc, format, exact, unit, infer_datetime_format, origin, cache)\u001b[0m\n\u001b[0;32m   1048\u001b[0m         result \u001b[39m=\u001b[39m arg\u001b[39m.\u001b[39mmap(cache_array)\n\u001b[0;32m   1049\u001b[0m     \u001b[39melse\u001b[39;00m:\n\u001b[1;32m-> 1050\u001b[0m         values \u001b[39m=\u001b[39m convert_listlike(arg\u001b[39m.\u001b[39;49m_values, \u001b[39mformat\u001b[39;49m)\n\u001b[0;32m   1051\u001b[0m         result \u001b[39m=\u001b[39m arg\u001b[39m.\u001b[39m_constructor(values, index\u001b[39m=\u001b[39marg\u001b[39m.\u001b[39mindex, name\u001b[39m=\u001b[39marg\u001b[39m.\u001b[39mname)\n\u001b[0;32m   1052\u001b[0m \u001b[39melif\u001b[39;00m \u001b[39misinstance\u001b[39m(arg, (ABCDataFrame, abc\u001b[39m.\u001b[39mMutableMapping)):\n",
      "File \u001b[1;32m~\\AppData\\Roaming\\Python\\Python39\\site-packages\\pandas\\core\\tools\\datetimes.py:453\u001b[0m, in \u001b[0;36m_convert_listlike_datetimes\u001b[1;34m(arg, format, name, utc, unit, errors, dayfirst, yearfirst, exact)\u001b[0m\n\u001b[0;32m    451\u001b[0m \u001b[39m# `format` could be inferred, or user didn't ask for mixed-format parsing.\u001b[39;00m\n\u001b[0;32m    452\u001b[0m \u001b[39mif\u001b[39;00m \u001b[39mformat\u001b[39m \u001b[39mis\u001b[39;00m \u001b[39mnot\u001b[39;00m \u001b[39mNone\u001b[39;00m \u001b[39mand\u001b[39;00m \u001b[39mformat\u001b[39m \u001b[39m!=\u001b[39m \u001b[39m\"\u001b[39m\u001b[39mmixed\u001b[39m\u001b[39m\"\u001b[39m:\n\u001b[1;32m--> 453\u001b[0m     \u001b[39mreturn\u001b[39;00m _array_strptime_with_fallback(arg, name, utc, \u001b[39mformat\u001b[39;49m, exact, errors)\n\u001b[0;32m    455\u001b[0m result, tz_parsed \u001b[39m=\u001b[39m objects_to_datetime64ns(\n\u001b[0;32m    456\u001b[0m     arg,\n\u001b[0;32m    457\u001b[0m     dayfirst\u001b[39m=\u001b[39mdayfirst,\n\u001b[1;32m   (...)\u001b[0m\n\u001b[0;32m    461\u001b[0m     allow_object\u001b[39m=\u001b[39m\u001b[39mTrue\u001b[39;00m,\n\u001b[0;32m    462\u001b[0m )\n\u001b[0;32m    464\u001b[0m \u001b[39mif\u001b[39;00m tz_parsed \u001b[39mis\u001b[39;00m \u001b[39mnot\u001b[39;00m \u001b[39mNone\u001b[39;00m:\n\u001b[0;32m    465\u001b[0m     \u001b[39m# We can take a shortcut since the datetime64 numpy array\u001b[39;00m\n\u001b[0;32m    466\u001b[0m     \u001b[39m# is in UTC\u001b[39;00m\n",
      "File \u001b[1;32m~\\AppData\\Roaming\\Python\\Python39\\site-packages\\pandas\\core\\tools\\datetimes.py:484\u001b[0m, in \u001b[0;36m_array_strptime_with_fallback\u001b[1;34m(arg, name, utc, fmt, exact, errors)\u001b[0m\n\u001b[0;32m    473\u001b[0m \u001b[39mdef\u001b[39;00m \u001b[39m_array_strptime_with_fallback\u001b[39m(\n\u001b[0;32m    474\u001b[0m     arg,\n\u001b[0;32m    475\u001b[0m     name,\n\u001b[1;32m   (...)\u001b[0m\n\u001b[0;32m    479\u001b[0m     errors: \u001b[39mstr\u001b[39m,\n\u001b[0;32m    480\u001b[0m ) \u001b[39m-\u001b[39m\u001b[39m>\u001b[39m Index:\n\u001b[0;32m    481\u001b[0m \u001b[39m    \u001b[39m\u001b[39m\"\"\"\u001b[39;00m\n\u001b[0;32m    482\u001b[0m \u001b[39m    Call array_strptime, with fallback behavior depending on 'errors'.\u001b[39;00m\n\u001b[0;32m    483\u001b[0m \u001b[39m    \"\"\"\u001b[39;00m\n\u001b[1;32m--> 484\u001b[0m     result, timezones \u001b[39m=\u001b[39m array_strptime(arg, fmt, exact\u001b[39m=\u001b[39;49mexact, errors\u001b[39m=\u001b[39;49merrors, utc\u001b[39m=\u001b[39;49mutc)\n\u001b[0;32m    485\u001b[0m     \u001b[39mif\u001b[39;00m \u001b[39many\u001b[39m(tz \u001b[39mis\u001b[39;00m \u001b[39mnot\u001b[39;00m \u001b[39mNone\u001b[39;00m \u001b[39mfor\u001b[39;00m tz \u001b[39min\u001b[39;00m timezones):\n\u001b[0;32m    486\u001b[0m         \u001b[39mreturn\u001b[39;00m _return_parsed_timezone_results(result, timezones, utc, name)\n",
      "File \u001b[1;32m~\\AppData\\Roaming\\Python\\Python39\\site-packages\\pandas\\_libs\\tslibs\\strptime.pyx:530\u001b[0m, in \u001b[0;36mpandas._libs.tslibs.strptime.array_strptime\u001b[1;34m()\u001b[0m\n",
      "File \u001b[1;32m~\\AppData\\Roaming\\Python\\Python39\\site-packages\\pandas\\_libs\\tslibs\\strptime.pyx:351\u001b[0m, in \u001b[0;36mpandas._libs.tslibs.strptime.array_strptime\u001b[1;34m()\u001b[0m\n",
      "\u001b[1;31mValueError\u001b[0m: time data \"1873-00-00\" doesn't match format \"%Y-%m-%d\", at position 22. You might want to try:\n    - passing `format` if your strings have a consistent format;\n    - passing `format='ISO8601'` if your strings are all ISO8601 but not necessarily in exactly the same format;\n    - passing `format='mixed'`, and the format will be inferred for each element individually. You might want to use `dayfirst` alongside this."
     ]
    }
   ],
   "source": [
    "# Convert the 'Date' column to datetime\n",
    "df['Birth_Date'] = pd.to_datetime(df['Birth_Date'], format='%Y-%m-%d')\n",
    "\n",
    "# Extract the year from the 'Date' column\n",
    "df['Birth_Date'] = df['Birth_Date'].dt.year\n"
   ]
  },
  {
   "cell_type": "code",
   "execution_count": 361,
   "metadata": {},
   "outputs": [
    {
     "data": {
      "text/plain": [
       "0      1845\n",
       "1      1854\n",
       "2      1828\n",
       "3      1822\n",
       "4      1839\n",
       "       ... \n",
       "984    1955\n",
       "985    1941\n",
       "986    1953\n",
       "987    1966\n",
       "988    1955\n",
       "Name: Birth_Date, Length: 989, dtype: object"
      ]
     },
     "execution_count": 361,
     "metadata": {},
     "output_type": "execute_result"
    }
   ],
   "source": [
    "# Using Regular Expression -Here finding the 4 continuous digits\n",
    "import re\n",
    "df[\"Birth_Date\"]=df['Birth_Date'].astype(str)\n",
    "def birthdate(b) :\n",
    "    date=re.findall('\\d{4}',b)\n",
    "    return date[0] if date else None          \n",
    "        \n",
    "df['Birth_Date']=df['Birth_Date'].apply(birthdate)\n",
    "df['Birth_Date']"
   ]
  },
  {
   "cell_type": "code",
   "execution_count": 362,
   "metadata": {},
   "outputs": [],
   "source": [
    "df['Birth_Date'].fillna('not mentioned ',inplace=True)"
   ]
  },
  {
   "cell_type": "code",
   "execution_count": 363,
   "metadata": {},
   "outputs": [],
   "source": [
    "df['Birth_City'].fillna('not mention',inplace=True)"
   ]
  },
  {
   "cell_type": "code",
   "execution_count": 364,
   "metadata": {},
   "outputs": [
    {
     "data": {
      "text/plain": [
       "Year                      0\n",
       "Laureate_Id               0\n",
       "Category                  0\n",
       "Gender                    0\n",
       "Prize_Share               0\n",
       "Motivation                0\n",
       "Birth_Date                0\n",
       "Birth_Country            31\n",
       "Birth_City                0\n",
       "Birth_Country_Code       31\n",
       "Death_Date                0\n",
       "Death_Country           343\n",
       "Death_City              349\n",
       "Death_Country_Code      343\n",
       "Organization_Name       262\n",
       "Organization_City       267\n",
       "Organization_Country    265\n",
       "Fullname                  0\n",
       "dtype: int64"
      ]
     },
     "execution_count": 364,
     "metadata": {},
     "output_type": "execute_result"
    }
   ],
   "source": [
    "df.isnull().sum()"
   ]
  },
  {
   "cell_type": "code",
   "execution_count": 365,
   "metadata": {},
   "outputs": [],
   "source": [
    "df.Birth_Country.fillna('not mentioned',inplace=True)"
   ]
  },
  {
   "cell_type": "code",
   "execution_count": 366,
   "metadata": {},
   "outputs": [],
   "source": [
    "df.Birth_Country_Code.fillna('not mentioned',inplace=True)\n",
    "df.Death_Country.fillna('not mentioned',inplace=True)\n",
    "df.Death_City.fillna('not mentioned',inplace=True)\n",
    "df.Death_Country_Code.fillna('not mentioned',inplace=True)\n",
    "df.Organization_Name.fillna('not mentioned',inplace=True)\n",
    "df.Organization_City.fillna('not mentioned',inplace=True)\n",
    "df.Organization_Country.fillna('not mentioned',inplace=True)"
   ]
  },
  {
   "cell_type": "code",
   "execution_count": 367,
   "metadata": {},
   "outputs": [
    {
     "data": {
      "text/plain": [
       "Year                    0\n",
       "Laureate_Id             0\n",
       "Category                0\n",
       "Gender                  0\n",
       "Prize_Share             0\n",
       "Motivation              0\n",
       "Birth_Date              0\n",
       "Birth_Country           0\n",
       "Birth_City              0\n",
       "Birth_Country_Code      0\n",
       "Death_Date              0\n",
       "Death_Country           0\n",
       "Death_City              0\n",
       "Death_Country_Code      0\n",
       "Organization_Name       0\n",
       "Organization_City       0\n",
       "Organization_Country    0\n",
       "Fullname                0\n",
       "dtype: int64"
      ]
     },
     "execution_count": 367,
     "metadata": {},
     "output_type": "execute_result"
    }
   ],
   "source": [
    "df.isnull().sum()"
   ]
  },
  {
   "cell_type": "code",
   "execution_count": 384,
   "metadata": {},
   "outputs": [
    {
     "data": {
      "text/plain": [
       "<Axes: >"
      ]
     },
     "execution_count": 384,
     "metadata": {},
     "output_type": "execute_result"
    },
    {
     "data": {
      "image/png": "[encoded data removed]",
      "text/plain": [
       "<Figure size 640x480 with 1 Axes>"
      ]
     },
     "metadata": {},
     "output_type": "display_data"
    }
   ],
   "source": [
    "# Displaying the null values using heatmap\n",
    "sns.heatmap(df.isnull(),cbar=False)"
   ]
  },
  {
   "cell_type": "code",
   "execution_count": 369,
   "metadata": {},
   "outputs": [
    {
     "data": {
      "image/png": "[encoded data removed]",
      "text/plain": [
       "<Figure size 640x480 with 1 Axes>"
      ]
     },
     "metadata": {},
     "output_type": "display_data"
    }
   ],
   "source": [
    "#\n",
    "plt.title('Awards Per category')\n",
    "plt.xlabel(\"Category\")\n",
    "plt.ylabel(\"Count\")\n",
    "sns.countplot(data=df,x='Category')\n",
    "plt.show()"
   ]
  },
  {
   "cell_type": "code",
   "execution_count": 370,
   "metadata": {},
   "outputs": [
    {
     "data": {
      "image/png": "[encoded data removed]",
      "text/plain": [
       "<Figure size 640x480 with 1 Axes>"
      ]
     },
     "metadata": {},
     "output_type": "display_data"
    }
   ],
   "source": [
    "plt.title('Prize Share')\n",
    "plt.xlabel(\"Category\")\n",
    "plt.ylabel(\"Count\")\n",
    "sns.countplot(data=df,x='Prize_Share')\n",
    "plt.show()"
   ]
  },
  {
   "cell_type": "code",
   "execution_count": 371,
   "metadata": {},
   "outputs": [
    {
     "data": {
      "text/plain": [
       "<Axes: xlabel='Category', ylabel='Year'>"
      ]
     },
     "execution_count": 371,
     "metadata": {},
     "output_type": "execute_result"
    },
    {
     "data": {
      "image/png": "[encoded data removed]",
      "text/plain": [
       "<Figure size 640x480 with 1 Axes>"
      ]
     },
     "metadata": {},
     "output_type": "display_data"
    }
   ],
   "source": [
    "sns.boxplot(data=df,x='Category',y='Year')"
   ]
  },
  {
   "cell_type": "code",
   "execution_count": 372,
   "metadata": {},
   "outputs": [
    {
     "data": {
      "text/html": [
       "<div>\n",
       "<style scoped>\n",
       "    .dataframe tbody tr th:only-of-type {\n",
       "        vertical-align: middle;\n",
       "    }\n",
       "\n",
       "    .dataframe tbody tr th {\n",
       "        vertical-align: top;\n",
       "    }\n",
       "\n",
       "    .dataframe thead th {\n",
       "        text-align: right;\n",
       "    }\n",
       "</style>\n",
       "<table border=\"1\" class=\"dataframe\">\n",
       "  <thead>\n",
       "    <tr style=\"text-align: right;\">\n",
       "      <th></th>\n",
       "      <th>Year</th>\n",
       "      <th>Laureate_Id</th>\n",
       "      <th>Category</th>\n",
       "      <th>Gender</th>\n",
       "      <th>Prize_Share</th>\n",
       "      <th>Motivation</th>\n",
       "      <th>Birth_Date</th>\n",
       "      <th>Birth_Country</th>\n",
       "      <th>Birth_City</th>\n",
       "      <th>Birth_Country_Code</th>\n",
       "      <th>Death_Date</th>\n",
       "      <th>Death_Country</th>\n",
       "      <th>Death_City</th>\n",
       "      <th>Death_Country_Code</th>\n",
       "      <th>Organization_Name</th>\n",
       "      <th>Organization_City</th>\n",
       "      <th>Organization_Country</th>\n",
       "      <th>Fullname</th>\n",
       "    </tr>\n",
       "  </thead>\n",
       "  <tbody>\n",
       "    <tr>\n",
       "      <th>0</th>\n",
       "      <td>1901</td>\n",
       "      <td>1</td>\n",
       "      <td>physics</td>\n",
       "      <td>male</td>\n",
       "      <td>1</td>\n",
       "      <td>\"in recognition of the extraordinary services ...</td>\n",
       "      <td>1845</td>\n",
       "      <td>Prussia (now Germany)</td>\n",
       "      <td>Lennep (now Remscheid)</td>\n",
       "      <td>DE</td>\n",
       "      <td>10-02-1923</td>\n",
       "      <td>Germany</td>\n",
       "      <td>Munich</td>\n",
       "      <td>DE</td>\n",
       "      <td>Munich University</td>\n",
       "      <td>Munich</td>\n",
       "      <td>Germany</td>\n",
       "      <td>Wilhelm Conrad Röntgen</td>\n",
       "    </tr>\n",
       "    <tr>\n",
       "      <th>1</th>\n",
       "      <td>1901</td>\n",
       "      <td>293</td>\n",
       "      <td>medicine</td>\n",
       "      <td>male</td>\n",
       "      <td>1</td>\n",
       "      <td>\"for his work on serum therapy especially its ...</td>\n",
       "      <td>1854</td>\n",
       "      <td>Prussia (now Poland)</td>\n",
       "      <td>Hansdorf (now Lawice)</td>\n",
       "      <td>PL</td>\n",
       "      <td>31-03-1917</td>\n",
       "      <td>Germany</td>\n",
       "      <td>Marburg</td>\n",
       "      <td>DE</td>\n",
       "      <td>Marburg University</td>\n",
       "      <td>Marburg</td>\n",
       "      <td>Germany</td>\n",
       "      <td>Emil von Behring</td>\n",
       "    </tr>\n",
       "    <tr>\n",
       "      <th>2</th>\n",
       "      <td>1901</td>\n",
       "      <td>462</td>\n",
       "      <td>peace</td>\n",
       "      <td>male</td>\n",
       "      <td>2</td>\n",
       "      <td>\"for his humanitarian efforts to help wounded ...</td>\n",
       "      <td>1828</td>\n",
       "      <td>Switzerland</td>\n",
       "      <td>Geneva</td>\n",
       "      <td>CH</td>\n",
       "      <td>30-10-1910</td>\n",
       "      <td>Switzerland</td>\n",
       "      <td>Heiden</td>\n",
       "      <td>CH</td>\n",
       "      <td>not mentioned</td>\n",
       "      <td>not mentioned</td>\n",
       "      <td>not mentioned</td>\n",
       "      <td>Henry Dunant</td>\n",
       "    </tr>\n",
       "    <tr>\n",
       "      <th>3</th>\n",
       "      <td>1901</td>\n",
       "      <td>463</td>\n",
       "      <td>peace</td>\n",
       "      <td>male</td>\n",
       "      <td>2</td>\n",
       "      <td>\"for his lifelong work for international peace...</td>\n",
       "      <td>1822</td>\n",
       "      <td>France</td>\n",
       "      <td>Paris</td>\n",
       "      <td>FR</td>\n",
       "      <td>12-06-1912</td>\n",
       "      <td>France</td>\n",
       "      <td>Paris</td>\n",
       "      <td>FR</td>\n",
       "      <td>not mentioned</td>\n",
       "      <td>not mentioned</td>\n",
       "      <td>not mentioned</td>\n",
       "      <td>Frédéric Passy</td>\n",
       "    </tr>\n",
       "    <tr>\n",
       "      <th>4</th>\n",
       "      <td>1901</td>\n",
       "      <td>569</td>\n",
       "      <td>literature</td>\n",
       "      <td>male</td>\n",
       "      <td>1</td>\n",
       "      <td>\"in special recognition of his poetic composit...</td>\n",
       "      <td>1839</td>\n",
       "      <td>France</td>\n",
       "      <td>Paris</td>\n",
       "      <td>FR</td>\n",
       "      <td>07-09-1907</td>\n",
       "      <td>France</td>\n",
       "      <td>Châtenay</td>\n",
       "      <td>FR</td>\n",
       "      <td>not mentioned</td>\n",
       "      <td>not mentioned</td>\n",
       "      <td>not mentioned</td>\n",
       "      <td>Sully Prudhomme</td>\n",
       "    </tr>\n",
       "    <tr>\n",
       "      <th>...</th>\n",
       "      <td>...</td>\n",
       "      <td>...</td>\n",
       "      <td>...</td>\n",
       "      <td>...</td>\n",
       "      <td>...</td>\n",
       "      <td>...</td>\n",
       "      <td>...</td>\n",
       "      <td>...</td>\n",
       "      <td>...</td>\n",
       "      <td>...</td>\n",
       "      <td>...</td>\n",
       "      <td>...</td>\n",
       "      <td>...</td>\n",
       "      <td>...</td>\n",
       "      <td>...</td>\n",
       "      <td>...</td>\n",
       "      <td>...</td>\n",
       "      <td>...</td>\n",
       "    </tr>\n",
       "    <tr>\n",
       "      <th>984</th>\n",
       "      <td>2022</td>\n",
       "      <td>1011</td>\n",
       "      <td>medicine</td>\n",
       "      <td>male</td>\n",
       "      <td>1</td>\n",
       "      <td>\"for his discoveries concerning the genomes of...</td>\n",
       "      <td>1955</td>\n",
       "      <td>Sweden</td>\n",
       "      <td>Stockholm</td>\n",
       "      <td>SE</td>\n",
       "      <td>0000-00-00</td>\n",
       "      <td>not mentioned</td>\n",
       "      <td>not mentioned</td>\n",
       "      <td>not mentioned</td>\n",
       "      <td>Max Planck Institute for Evolutionary Anthropo...</td>\n",
       "      <td>Leipzig</td>\n",
       "      <td>Germany</td>\n",
       "      <td>Svante Pääbo</td>\n",
       "    </tr>\n",
       "    <tr>\n",
       "      <th>985</th>\n",
       "      <td>2022</td>\n",
       "      <td>743</td>\n",
       "      <td>chemistry</td>\n",
       "      <td>male</td>\n",
       "      <td>3</td>\n",
       "      <td>\"for the development of click chemistry and bi...</td>\n",
       "      <td>1941</td>\n",
       "      <td>USA</td>\n",
       "      <td>Philadelphia PA</td>\n",
       "      <td>US</td>\n",
       "      <td>0000-00-00</td>\n",
       "      <td>not mentioned</td>\n",
       "      <td>not mentioned</td>\n",
       "      <td>not mentioned</td>\n",
       "      <td>Scripps Research</td>\n",
       "      <td>La Jolla CA</td>\n",
       "      <td>USA</td>\n",
       "      <td>Barry Sharpless</td>\n",
       "    </tr>\n",
       "    <tr>\n",
       "      <th>986</th>\n",
       "      <td>2022</td>\n",
       "      <td>1022</td>\n",
       "      <td>economics</td>\n",
       "      <td>male</td>\n",
       "      <td>3</td>\n",
       "      <td>\"for research on banks and financial crises\"</td>\n",
       "      <td>1953</td>\n",
       "      <td>USA</td>\n",
       "      <td>Chicago IL</td>\n",
       "      <td>US</td>\n",
       "      <td>0000-00-00</td>\n",
       "      <td>not mentioned</td>\n",
       "      <td>not mentioned</td>\n",
       "      <td>not mentioned</td>\n",
       "      <td>University of Chicago</td>\n",
       "      <td>Chicago IL</td>\n",
       "      <td>USA</td>\n",
       "      <td>Douglas Diamond</td>\n",
       "    </tr>\n",
       "    <tr>\n",
       "      <th>987</th>\n",
       "      <td>2022</td>\n",
       "      <td>1015</td>\n",
       "      <td>chemistry</td>\n",
       "      <td>female</td>\n",
       "      <td>3</td>\n",
       "      <td>\"for the development of click chemistry and bi...</td>\n",
       "      <td>1966</td>\n",
       "      <td>USA</td>\n",
       "      <td>Boston MA</td>\n",
       "      <td>US</td>\n",
       "      <td>0000-00-00</td>\n",
       "      <td>not mentioned</td>\n",
       "      <td>not mentioned</td>\n",
       "      <td>not mentioned</td>\n",
       "      <td>Stanford University</td>\n",
       "      <td>Stanford CA</td>\n",
       "      <td>USA</td>\n",
       "      <td>Carolyn Bertozzi</td>\n",
       "    </tr>\n",
       "    <tr>\n",
       "      <th>988</th>\n",
       "      <td>2022</td>\n",
       "      <td>1023</td>\n",
       "      <td>economics</td>\n",
       "      <td>male</td>\n",
       "      <td>3</td>\n",
       "      <td>\"for research on banks and financial crises\"</td>\n",
       "      <td>1955</td>\n",
       "      <td>USA</td>\n",
       "      <td>Gainesville FL</td>\n",
       "      <td>US</td>\n",
       "      <td>0000-00-00</td>\n",
       "      <td>not mentioned</td>\n",
       "      <td>not mentioned</td>\n",
       "      <td>not mentioned</td>\n",
       "      <td>Washington University</td>\n",
       "      <td>St. Louis MO</td>\n",
       "      <td>USA</td>\n",
       "      <td>Philip Dybvig</td>\n",
       "    </tr>\n",
       "  </tbody>\n",
       "</table>\n",
       "<p>989 rows × 18 columns</p>\n",
       "</div>"
      ],
      "text/plain": [
       "     Year  Laureate_Id    Category  Gender  Prize_Share  \\\n",
       "0    1901            1     physics    male            1   \n",
       "1    1901          293    medicine    male            1   \n",
       "2    1901          462       peace    male            2   \n",
       "3    1901          463       peace    male            2   \n",
       "4    1901          569  literature    male            1   \n",
       "..    ...          ...         ...     ...          ...   \n",
       "984  2022         1011    medicine    male            1   \n",
       "985  2022          743   chemistry    male            3   \n",
       "986  2022         1022   economics    male            3   \n",
       "987  2022         1015   chemistry  female            3   \n",
       "988  2022         1023   economics    male            3   \n",
       "\n",
       "                                            Motivation Birth_Date  \\\n",
       "0    \"in recognition of the extraordinary services ...       1845   \n",
       "1    \"for his work on serum therapy especially its ...       1854   \n",
       "2    \"for his humanitarian efforts to help wounded ...       1828   \n",
       "3    \"for his lifelong work for international peace...       1822   \n",
       "4    \"in special recognition of his poetic composit...       1839   \n",
       "..                                                 ...        ...   \n",
       "984  \"for his discoveries concerning the genomes of...       1955   \n",
       "985  \"for the development of click chemistry and bi...       1941   \n",
       "986       \"for research on banks and financial crises\"       1953   \n",
       "987  \"for the development of click chemistry and bi...       1966   \n",
       "988       \"for research on banks and financial crises\"       1955   \n",
       "\n",
       "             Birth_Country              Birth_City Birth_Country_Code  \\\n",
       "0    Prussia (now Germany)  Lennep (now Remscheid)                 DE   \n",
       "1     Prussia (now Poland)   Hansdorf (now Lawice)                 PL   \n",
       "2              Switzerland                  Geneva                 CH   \n",
       "3                   France                   Paris                 FR   \n",
       "4                   France                   Paris                 FR   \n",
       "..                     ...                     ...                ...   \n",
       "984                 Sweden               Stockholm                 SE   \n",
       "985                    USA         Philadelphia PA                 US   \n",
       "986                    USA              Chicago IL                 US   \n",
       "987                    USA               Boston MA                 US   \n",
       "988                    USA          Gainesville FL                 US   \n",
       "\n",
       "     Death_Date  Death_Country     Death_City Death_Country_Code  \\\n",
       "0    10-02-1923        Germany         Munich                 DE   \n",
       "1    31-03-1917        Germany        Marburg                 DE   \n",
       "2    30-10-1910    Switzerland         Heiden                 CH   \n",
       "3    12-06-1912         France          Paris                 FR   \n",
       "4    07-09-1907         France       Châtenay                 FR   \n",
       "..          ...            ...            ...                ...   \n",
       "984  0000-00-00  not mentioned  not mentioned      not mentioned   \n",
       "985  0000-00-00  not mentioned  not mentioned      not mentioned   \n",
       "986  0000-00-00  not mentioned  not mentioned      not mentioned   \n",
       "987  0000-00-00  not mentioned  not mentioned      not mentioned   \n",
       "988  0000-00-00  not mentioned  not mentioned      not mentioned   \n",
       "\n",
       "                                     Organization_Name Organization_City  \\\n",
       "0                                    Munich University            Munich   \n",
       "1                                   Marburg University           Marburg   \n",
       "2                                        not mentioned     not mentioned   \n",
       "3                                        not mentioned     not mentioned   \n",
       "4                                        not mentioned     not mentioned   \n",
       "..                                                 ...               ...   \n",
       "984  Max Planck Institute for Evolutionary Anthropo...           Leipzig   \n",
       "985                                   Scripps Research       La Jolla CA   \n",
       "986                              University of Chicago        Chicago IL   \n",
       "987                                Stanford University       Stanford CA   \n",
       "988                              Washington University      St. Louis MO   \n",
       "\n",
       "    Organization_Country                Fullname  \n",
       "0                Germany  Wilhelm Conrad Röntgen  \n",
       "1                Germany        Emil von Behring  \n",
       "2          not mentioned            Henry Dunant  \n",
       "3          not mentioned          Frédéric Passy  \n",
       "4          not mentioned         Sully Prudhomme  \n",
       "..                   ...                     ...  \n",
       "984              Germany            Svante Pääbo  \n",
       "985                  USA         Barry Sharpless  \n",
       "986                  USA         Douglas Diamond  \n",
       "987                  USA        Carolyn Bertozzi  \n",
       "988                  USA           Philip Dybvig  \n",
       "\n",
       "[989 rows x 18 columns]"
      ]
     },
     "execution_count": 372,
     "metadata": {},
     "output_type": "execute_result"
    }
   ],
   "source": [
    "df"
   ]
  },
  {
   "cell_type": "code",
   "execution_count": 373,
   "metadata": {},
   "outputs": [
    {
     "data": {
      "text/plain": [
       "Year                     int64\n",
       "Laureate_Id              int64\n",
       "Category                object\n",
       "Gender                  object\n",
       "Prize_Share              int64\n",
       "Motivation              object\n",
       "Birth_Date              object\n",
       "Birth_Country           object\n",
       "Birth_City              object\n",
       "Birth_Country_Code      object\n",
       "Death_Date              object\n",
       "Death_Country           object\n",
       "Death_City              object\n",
       "Death_Country_Code      object\n",
       "Organization_Name       object\n",
       "Organization_City       object\n",
       "Organization_Country    object\n",
       "Fullname                object\n",
       "dtype: object"
      ]
     },
     "execution_count": 373,
     "metadata": {},
     "output_type": "execute_result"
    }
   ],
   "source": [
    "df.dtypes"
   ]
  },
  {
   "cell_type": "code",
   "execution_count": 374,
   "metadata": {},
   "outputs": [],
   "source": [
    "df['Birth_Date']=df['Birth_Date'].astype(int)"
   ]
  },
  {
   "cell_type": "code",
   "execution_count": 375,
   "metadata": {},
   "outputs": [
    {
     "data": {
      "text/plain": [
       "0      56\n",
       "1      47\n",
       "2      73\n",
       "3      79\n",
       "4      62\n",
       "       ..\n",
       "984    67\n",
       "985    81\n",
       "986    69\n",
       "987    56\n",
       "988    67\n",
       "Name: Winning_Age, Length: 989, dtype: int64"
      ]
     },
     "execution_count": 375,
     "metadata": {},
     "output_type": "execute_result"
    }
   ],
   "source": [
    "df['Winning_Age']=df['Year']-df['Birth_Date']\n",
    "df['Winning_Age']"
   ]
  },
  {
   "cell_type": "code",
   "execution_count": 376,
   "metadata": {},
   "outputs": [
    {
     "data": {
      "text/plain": [
       "<Axes: xlabel='Category', ylabel='Winning_Age'>"
      ]
     },
     "execution_count": 376,
     "metadata": {},
     "output_type": "execute_result"
    },
    {
     "data": {
      "image/png": "[encoded data removed]",
      "text/plain": [
       "<Figure size 640x480 with 1 Axes>"
      ]
     },
     "metadata": {},
     "output_type": "display_data"
    }
   ],
   "source": [
    "sns.boxplot(x='Category',y='Winning_Age',data=df,palette='flare')"
   ]
  },
  {
   "cell_type": "code",
   "execution_count": 377,
   "metadata": {},
   "outputs": [],
   "source": [
    "def win_age(win) :\n",
    "    if ((win>20) & (win<95)):\n",
    "        return win\n",
    "    else:\n",
    "        return np.nan\n",
    "    \n",
    "df['Winning_Age']=df['Winning_Age'].apply(win_age)\n",
    "    \n",
    "\n"
   ]
  },
  {
   "cell_type": "code",
   "execution_count": 378,
   "metadata": {},
   "outputs": [
    {
     "data": {
      "text/plain": [
       "<Axes: xlabel='Category', ylabel='Winning_Age'>"
      ]
     },
     "execution_count": 378,
     "metadata": {},
     "output_type": "execute_result"
    },
    {
     "data": {
      "image/png": "[encoded data removed]",
      "text/plain": [
       "<Figure size 640x480 with 1 Axes>"
      ]
     },
     "metadata": {},
     "output_type": "display_data"
    }
   ],
   "source": [
    "sns.boxplot(x='Category',y='Winning_Age',data=df,palette='flare')"
   ]
  },
  {
   "cell_type": "code",
   "execution_count": 379,
   "metadata": {},
   "outputs": [
    {
     "data": {
      "image/png": "[encoded data removed]",
      "text/plain": [
       "<Figure size 4000x1000 with 1 Axes>"
      ]
     },
     "metadata": {},
     "output_type": "display_data"
    }
   ],
   "source": [
    "plt.figure(figsize=(40,10))\n",
    "plt.title('Win year distribution')\n",
    "sns.countplot(data=df,x='Winning_Age',palette='flare')\n",
    "plt.show()\n"
   ]
  },
  {
   "cell_type": "code",
   "execution_count": 380,
   "metadata": {},
   "outputs": [
    {
     "data": {
      "text/plain": [
       "Gender\n",
       "male      898\n",
       "female     61\n",
       "org        30\n",
       "Name: count, dtype: int64"
      ]
     },
     "execution_count": 380,
     "metadata": {},
     "output_type": "execute_result"
    }
   ],
   "source": [
    "df.Gender.value_counts()\n"
   ]
  },
  {
   "cell_type": "code",
   "execution_count": 381,
   "metadata": {},
   "outputs": [
    {
     "data": {
      "text/plain": [
       "0      individual\n",
       "1      individual\n",
       "2      individual\n",
       "3      individual\n",
       "4      individual\n",
       "          ...    \n",
       "984    individual\n",
       "985    individual\n",
       "986    individual\n",
       "987    individual\n",
       "988    individual\n",
       "Name: Gender_Type, Length: 989, dtype: object"
      ]
     },
     "execution_count": 381,
     "metadata": {},
     "output_type": "execute_result"
    }
   ],
   "source": [
    "df[\"Gender_Type\"] = df[\"Gender\"].apply(lambda x: \"individual\" if x in [\"male\", \"female\"] else \"org\")\n",
    "df[\"Gender_Type\"]"
   ]
  },
  {
   "cell_type": "code",
   "execution_count": 382,
   "metadata": {},
   "outputs": [
    {
     "data": {
      "text/plain": [
       "Gender_Type\n",
       "individual    959\n",
       "org            30\n",
       "Name: count, dtype: int64"
      ]
     },
     "execution_count": 382,
     "metadata": {},
     "output_type": "execute_result"
    }
   ],
   "source": [
    "df.Gender_Type.value_counts()\n"
   ]
  },
  {
   "cell_type": "code",
   "execution_count": 383,
   "metadata": {},
   "outputs": [
    {
     "data": {
      "image/png": "[encoded data removed]",
      "text/plain": [
       "<Figure size 640x480 with 1 Axes>"
      ]
     },
     "metadata": {},
     "output_type": "display_data"
    }
   ],
   "source": [
    "plt.title('Individual v/s Organisation')\n",
    "df['Gender_Type'].value_counts().plot(kind='pie')\n",
    "plt.show()"
   ]
  }
 ],
 "metadata": {
  "kernelspec": {
   "display_name": "Python 3",
   "language": "python",
   "name": "python3"
  },
  "language_info": {
   "codemirror_mode": {
    "name": "ipython",
    "version": 3
   },
   "file_extension": ".py",
   "mimetype": "text/x-python",
   "name": "python",
   "nbconvert_exporter": "python",
   "pygments_lexer": "ipython3",
   "version": "3.9.13"
  },
  "orig_nbformat": 4
 },
 "nbformat": 4,
 "nbformat_minor": 2
}
