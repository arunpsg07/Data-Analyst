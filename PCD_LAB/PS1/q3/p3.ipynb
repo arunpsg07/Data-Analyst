{
 "cells": [
  {
   "cell_type": "code",
   "execution_count": 1,
   "metadata": {},
   "outputs": [
    {
     "name": "stdout",
     "output_type": "stream",
     "text": [
      "Number of alphabets: 520\n",
      "Number of digits: 16\n",
      "Number of spaces: 102\n",
      "Number of special characters: 15\n",
      "Number of lines: 13\n",
      "Number of words: 92\n",
      "File size (in bytes): 665\n"
     ]
    }
   ],
   "source": [
    "\n",
    "import string\n",
    "import os\n",
    "\n",
    "def count_characters(text):\n",
    "    num_alpha = sum(c.isalpha() for c in text)\n",
    "    num_digits = sum(c.isdigit() for c in text)\n",
    "    num_spaces = sum(c.isspace() for c in text)\n",
    "    num_special = len(text) - num_alpha - num_digits - num_spaces\n",
    "    return num_alpha, num_digits, num_spaces, num_special\n",
    "\n",
    "def count_lines_words(text):\n",
    "    lines = text.split('\\n')\n",
    "    num_lines = len(lines)\n",
    "    words = text.split()\n",
    "    num_words = len(words)\n",
    "    return num_lines, num_words\n",
    "\n",
    "def get_file_size(file_path):\n",
    "    return os.path.getsize(file_path)\n",
    "\n",
    "def analyze_text_file(file_path):\n",
    "    with open(file_path, 'r') as file:\n",
    "        text = file.read()\n",
    "    \n",
    "    num_alpha, num_digits, num_spaces, num_special = count_characters(text)\n",
    "    num_lines, num_words = count_lines_words(text)\n",
    "    file_size = get_file_size(file_path)\n",
    "    \n",
    "    print(\"Number of alphabets:\", num_alpha)\n",
    "    print(\"Number of digits:\", num_digits)\n",
    "    print(\"Number of spaces:\", num_spaces)\n",
    "    print(\"Number of special characters:\", num_special)\n",
    "    print(\"Number of lines:\", num_lines)\n",
    "    print(\"Number of words:\", num_words)\n",
    "    print(\"File size (in bytes):\", file_size)\n",
    "\n",
    "# Usage\n",
    "file_path = \"Z:\\SEM9\\PCD_LAB\\PS1\\q3\\output.txt\"\n",
    "analyze_text_file(file_path)\n"
   ]
  }
 ],
 "metadata": {
  "kernelspec": {
   "display_name": "Python 3",
   "language": "python",
   "name": "python3"
  },
  "language_info": {
   "codemirror_mode": {
    "name": "ipython",
    "version": 3
   },
   "file_extension": ".py",
   "mimetype": "text/x-python",
   "name": "python",
   "nbconvert_exporter": "python",
   "pygments_lexer": "ipython3",
   "version": "3.9.13"
  },
  "orig_nbformat": 4
 },
 "nbformat": 4,
 "nbformat_minor": 2
}
